{
  "nbformat": 4,
  "nbformat_minor": 0,
  "metadata": {
    "accelerator": "GPU",
    "colab": {
      "name": "Feature Importance_sch_vars.ipynb",
      "provenance": [],
      "collapsed_sections": [],
      "machine_shape": "hm"
    },
    "kernelspec": {
      "display_name": "Python 3",
      "name": "python3"
    },
    "language_info": {
      "name": "python"
    }
  },
  "cells": [
    {
      "cell_type": "code",
      "metadata": {
        "colab": {
          "base_uri": "https://localhost:8080/"
        },
        "id": "vnZrIXQK2jr4",
        "outputId": "fe9eee3a-b450-4fd4-c74b-0ea9b0d338a9"
      },
      "source": [
        "!pip install tensorflow_addons\n",
        "!pip install pytorch-tabnet\n",
        "import pandas as pd\n",
        "import numpy as np\n",
        "from scipy import stats\n",
        "from sklearn.model_selection import train_test_split\n",
        "import torch\n",
        "import tensorflow as tf\n",
        "from tensorflow import keras\n",
        "from typing import Optional, Union, Tuple\n",
        "from pytorch_tabnet.tab_model import TabNetRegressor\n",
        "import tensorflow_probability as tfp\n",
        "import tensorflow_addons as tfa\n",
        "import tensorflow.python\n",
        "from sklearn.preprocessing import LabelEncoder\n",
        "from sklearn.metrics import mean_squared_error\n",
        "from tensorflow.keras import layers\n",
        "from keras.callbacks import EarlyStopping\n",
        "import matplotlib.pyplot as plt\n",
        "import seaborn as sns\n",
        "from sklearn.preprocessing import OneHotEncoder\n",
        "from sklearn.compose import ColumnTransformer\n",
        "import sklearn \n",
        "import sklearn.linear_model \n",
        "import matplotlib \n",
        "from keras.models import Sequential\n",
        "from keras.layers import Dense\n",
        "from keras import backend as K\n",
        "sns.set(rc={'figure.figsize':(11.7,8.27)})\n",
        "\n",
        "from tensorflow.python.client import device_lib\n",
        "print(device_lib.list_local_devices())"
      ],
      "execution_count": null,
      "outputs": [
        {
          "output_type": "stream",
          "name": "stdout",
          "text": [
            "Collecting tensorflow_addons\n",
            "  Downloading tensorflow_addons-0.15.0-cp37-cp37m-manylinux_2_12_x86_64.manylinux2010_x86_64.whl (1.1 MB)\n",
            "\u001b[?25l\r\u001b[K     |▎                               | 10 kB 22.3 MB/s eta 0:00:01\r\u001b[K     |▋                               | 20 kB 29.0 MB/s eta 0:00:01\r\u001b[K     |▉                               | 30 kB 13.4 MB/s eta 0:00:01\r\u001b[K     |█▏                              | 40 kB 9.8 MB/s eta 0:00:01\r\u001b[K     |█▌                              | 51 kB 5.4 MB/s eta 0:00:01\r\u001b[K     |█▊                              | 61 kB 5.9 MB/s eta 0:00:01\r\u001b[K     |██                              | 71 kB 5.6 MB/s eta 0:00:01\r\u001b[K     |██▍                             | 81 kB 6.3 MB/s eta 0:00:01\r\u001b[K     |██▋                             | 92 kB 4.8 MB/s eta 0:00:01\r\u001b[K     |███                             | 102 kB 5.2 MB/s eta 0:00:01\r\u001b[K     |███▎                            | 112 kB 5.2 MB/s eta 0:00:01\r\u001b[K     |███▌                            | 122 kB 5.2 MB/s eta 0:00:01\r\u001b[K     |███▉                            | 133 kB 5.2 MB/s eta 0:00:01\r\u001b[K     |████▏                           | 143 kB 5.2 MB/s eta 0:00:01\r\u001b[K     |████▍                           | 153 kB 5.2 MB/s eta 0:00:01\r\u001b[K     |████▊                           | 163 kB 5.2 MB/s eta 0:00:01\r\u001b[K     |█████                           | 174 kB 5.2 MB/s eta 0:00:01\r\u001b[K     |█████▎                          | 184 kB 5.2 MB/s eta 0:00:01\r\u001b[K     |█████▋                          | 194 kB 5.2 MB/s eta 0:00:01\r\u001b[K     |█████▉                          | 204 kB 5.2 MB/s eta 0:00:01\r\u001b[K     |██████▏                         | 215 kB 5.2 MB/s eta 0:00:01\r\u001b[K     |██████▌                         | 225 kB 5.2 MB/s eta 0:00:01\r\u001b[K     |██████▊                         | 235 kB 5.2 MB/s eta 0:00:01\r\u001b[K     |███████                         | 245 kB 5.2 MB/s eta 0:00:01\r\u001b[K     |███████▍                        | 256 kB 5.2 MB/s eta 0:00:01\r\u001b[K     |███████▋                        | 266 kB 5.2 MB/s eta 0:00:01\r\u001b[K     |████████                        | 276 kB 5.2 MB/s eta 0:00:01\r\u001b[K     |████████▎                       | 286 kB 5.2 MB/s eta 0:00:01\r\u001b[K     |████████▌                       | 296 kB 5.2 MB/s eta 0:00:01\r\u001b[K     |████████▉                       | 307 kB 5.2 MB/s eta 0:00:01\r\u001b[K     |█████████                       | 317 kB 5.2 MB/s eta 0:00:01\r\u001b[K     |█████████▍                      | 327 kB 5.2 MB/s eta 0:00:01\r\u001b[K     |█████████▊                      | 337 kB 5.2 MB/s eta 0:00:01\r\u001b[K     |██████████                      | 348 kB 5.2 MB/s eta 0:00:01\r\u001b[K     |██████████▎                     | 358 kB 5.2 MB/s eta 0:00:01\r\u001b[K     |██████████▋                     | 368 kB 5.2 MB/s eta 0:00:01\r\u001b[K     |██████████▉                     | 378 kB 5.2 MB/s eta 0:00:01\r\u001b[K     |███████████▏                    | 389 kB 5.2 MB/s eta 0:00:01\r\u001b[K     |███████████▌                    | 399 kB 5.2 MB/s eta 0:00:01\r\u001b[K     |███████████▊                    | 409 kB 5.2 MB/s eta 0:00:01\r\u001b[K     |████████████                    | 419 kB 5.2 MB/s eta 0:00:01\r\u001b[K     |████████████▍                   | 430 kB 5.2 MB/s eta 0:00:01\r\u001b[K     |████████████▋                   | 440 kB 5.2 MB/s eta 0:00:01\r\u001b[K     |█████████████                   | 450 kB 5.2 MB/s eta 0:00:01\r\u001b[K     |█████████████▎                  | 460 kB 5.2 MB/s eta 0:00:01\r\u001b[K     |█████████████▌                  | 471 kB 5.2 MB/s eta 0:00:01\r\u001b[K     |█████████████▉                  | 481 kB 5.2 MB/s eta 0:00:01\r\u001b[K     |██████████████                  | 491 kB 5.2 MB/s eta 0:00:01\r\u001b[K     |██████████████▍                 | 501 kB 5.2 MB/s eta 0:00:01\r\u001b[K     |██████████████▊                 | 512 kB 5.2 MB/s eta 0:00:01\r\u001b[K     |███████████████                 | 522 kB 5.2 MB/s eta 0:00:01\r\u001b[K     |███████████████▎                | 532 kB 5.2 MB/s eta 0:00:01\r\u001b[K     |███████████████▋                | 542 kB 5.2 MB/s eta 0:00:01\r\u001b[K     |███████████████▉                | 552 kB 5.2 MB/s eta 0:00:01\r\u001b[K     |████████████████▏               | 563 kB 5.2 MB/s eta 0:00:01\r\u001b[K     |████████████████▌               | 573 kB 5.2 MB/s eta 0:00:01\r\u001b[K     |████████████████▊               | 583 kB 5.2 MB/s eta 0:00:01\r\u001b[K     |█████████████████               | 593 kB 5.2 MB/s eta 0:00:01\r\u001b[K     |█████████████████▍              | 604 kB 5.2 MB/s eta 0:00:01\r\u001b[K     |█████████████████▋              | 614 kB 5.2 MB/s eta 0:00:01\r\u001b[K     |██████████████████              | 624 kB 5.2 MB/s eta 0:00:01\r\u001b[K     |██████████████████▏             | 634 kB 5.2 MB/s eta 0:00:01\r\u001b[K     |██████████████████▌             | 645 kB 5.2 MB/s eta 0:00:01\r\u001b[K     |██████████████████▉             | 655 kB 5.2 MB/s eta 0:00:01\r\u001b[K     |███████████████████             | 665 kB 5.2 MB/s eta 0:00:01\r\u001b[K     |███████████████████▍            | 675 kB 5.2 MB/s eta 0:00:01\r\u001b[K     |███████████████████▊            | 686 kB 5.2 MB/s eta 0:00:01\r\u001b[K     |████████████████████            | 696 kB 5.2 MB/s eta 0:00:01\r\u001b[K     |████████████████████▎           | 706 kB 5.2 MB/s eta 0:00:01\r\u001b[K     |████████████████████▋           | 716 kB 5.2 MB/s eta 0:00:01\r\u001b[K     |████████████████████▉           | 727 kB 5.2 MB/s eta 0:00:01\r\u001b[K     |█████████████████████▏          | 737 kB 5.2 MB/s eta 0:00:01\r\u001b[K     |█████████████████████▌          | 747 kB 5.2 MB/s eta 0:00:01\r\u001b[K     |█████████████████████▊          | 757 kB 5.2 MB/s eta 0:00:01\r\u001b[K     |██████████████████████          | 768 kB 5.2 MB/s eta 0:00:01\r\u001b[K     |██████████████████████▎         | 778 kB 5.2 MB/s eta 0:00:01\r\u001b[K     |██████████████████████▋         | 788 kB 5.2 MB/s eta 0:00:01\r\u001b[K     |███████████████████████         | 798 kB 5.2 MB/s eta 0:00:01\r\u001b[K     |███████████████████████▏        | 808 kB 5.2 MB/s eta 0:00:01\r\u001b[K     |███████████████████████▌        | 819 kB 5.2 MB/s eta 0:00:01\r\u001b[K     |███████████████████████▉        | 829 kB 5.2 MB/s eta 0:00:01\r\u001b[K     |████████████████████████        | 839 kB 5.2 MB/s eta 0:00:01\r\u001b[K     |████████████████████████▍       | 849 kB 5.2 MB/s eta 0:00:01\r\u001b[K     |████████████████████████▊       | 860 kB 5.2 MB/s eta 0:00:01\r\u001b[K     |█████████████████████████       | 870 kB 5.2 MB/s eta 0:00:01\r\u001b[K     |█████████████████████████▎      | 880 kB 5.2 MB/s eta 0:00:01\r\u001b[K     |█████████████████████████▋      | 890 kB 5.2 MB/s eta 0:00:01\r\u001b[K     |█████████████████████████▉      | 901 kB 5.2 MB/s eta 0:00:01\r\u001b[K     |██████████████████████████▏     | 911 kB 5.2 MB/s eta 0:00:01\r\u001b[K     |██████████████████████████▌     | 921 kB 5.2 MB/s eta 0:00:01\r\u001b[K     |██████████████████████████▊     | 931 kB 5.2 MB/s eta 0:00:01\r\u001b[K     |███████████████████████████     | 942 kB 5.2 MB/s eta 0:00:01\r\u001b[K     |███████████████████████████▎    | 952 kB 5.2 MB/s eta 0:00:01\r\u001b[K     |███████████████████████████▋    | 962 kB 5.2 MB/s eta 0:00:01\r\u001b[K     |████████████████████████████    | 972 kB 5.2 MB/s eta 0:00:01\r\u001b[K     |████████████████████████████▏   | 983 kB 5.2 MB/s eta 0:00:01\r\u001b[K     |████████████████████████████▌   | 993 kB 5.2 MB/s eta 0:00:01\r\u001b[K     |████████████████████████████▉   | 1.0 MB 5.2 MB/s eta 0:00:01\r\u001b[K     |█████████████████████████████   | 1.0 MB 5.2 MB/s eta 0:00:01\r\u001b[K     |█████████████████████████████▍  | 1.0 MB 5.2 MB/s eta 0:00:01\r\u001b[K     |█████████████████████████████▊  | 1.0 MB 5.2 MB/s eta 0:00:01\r\u001b[K     |██████████████████████████████  | 1.0 MB 5.2 MB/s eta 0:00:01\r\u001b[K     |██████████████████████████████▎ | 1.1 MB 5.2 MB/s eta 0:00:01\r\u001b[K     |██████████████████████████████▋ | 1.1 MB 5.2 MB/s eta 0:00:01\r\u001b[K     |██████████████████████████████▉ | 1.1 MB 5.2 MB/s eta 0:00:01\r\u001b[K     |███████████████████████████████▏| 1.1 MB 5.2 MB/s eta 0:00:01\r\u001b[K     |███████████████████████████████▍| 1.1 MB 5.2 MB/s eta 0:00:01\r\u001b[K     |███████████████████████████████▊| 1.1 MB 5.2 MB/s eta 0:00:01\r\u001b[K     |████████████████████████████████| 1.1 MB 5.2 MB/s \n",
            "\u001b[?25hRequirement already satisfied: typeguard>=2.7 in /usr/local/lib/python3.7/dist-packages (from tensorflow_addons) (2.7.1)\n",
            "Installing collected packages: tensorflow-addons\n",
            "Successfully installed tensorflow-addons-0.15.0\n",
            "Collecting pytorch-tabnet\n",
            "  Downloading pytorch_tabnet-3.1.1-py3-none-any.whl (39 kB)\n",
            "Requirement already satisfied: scipy>1.4 in /usr/local/lib/python3.7/dist-packages (from pytorch-tabnet) (1.4.1)\n",
            "Requirement already satisfied: numpy<2.0,>=1.17 in /usr/local/lib/python3.7/dist-packages (from pytorch-tabnet) (1.19.5)\n",
            "Requirement already satisfied: scikit_learn>0.21 in /usr/local/lib/python3.7/dist-packages (from pytorch-tabnet) (1.0.1)\n",
            "Requirement already satisfied: torch<2.0,>=1.2 in /usr/local/lib/python3.7/dist-packages (from pytorch-tabnet) (1.10.0+cu111)\n",
            "Requirement already satisfied: tqdm<5.0,>=4.36 in /usr/local/lib/python3.7/dist-packages (from pytorch-tabnet) (4.62.3)\n",
            "Requirement already satisfied: threadpoolctl>=2.0.0 in /usr/local/lib/python3.7/dist-packages (from scikit_learn>0.21->pytorch-tabnet) (3.0.0)\n",
            "Requirement already satisfied: joblib>=0.11 in /usr/local/lib/python3.7/dist-packages (from scikit_learn>0.21->pytorch-tabnet) (1.1.0)\n",
            "Requirement already satisfied: typing-extensions in /usr/local/lib/python3.7/dist-packages (from torch<2.0,>=1.2->pytorch-tabnet) (3.10.0.2)\n",
            "Installing collected packages: pytorch-tabnet\n",
            "Successfully installed pytorch-tabnet-3.1.1\n",
            "[name: \"/device:CPU:0\"\n",
            "device_type: \"CPU\"\n",
            "memory_limit: 268435456\n",
            "locality {\n",
            "}\n",
            "incarnation: 7690553822578279447\n",
            "xla_global_id: -1\n",
            ", name: \"/device:GPU:0\"\n",
            "device_type: \"GPU\"\n",
            "memory_limit: 15371862016\n",
            "locality {\n",
            "  bus_id: 1\n",
            "  links {\n",
            "  }\n",
            "}\n",
            "incarnation: 663269923785197649\n",
            "physical_device_desc: \"device: 0, name: Tesla P100-PCIE-16GB, pci bus id: 0000:00:04.0, compute capability: 6.0\"\n",
            "xla_global_id: 416903419\n",
            "]\n"
          ]
        }
      ]
    },
    {
      "cell_type": "code",
      "metadata": {
        "colab": {
          "base_uri": "https://localhost:8080/"
        },
        "id": "atojoLAx3qEI",
        "outputId": "9d7c3b0f-6326-4433-d525-16814218468b"
      },
      "source": [
        "#mount drive\n",
        "from google.colab import drive\n",
        "from google.colab import files\n",
        "drive.mount(\"/content/drive/\")\n",
        "#read file\n",
        "df = pd.read_csv('/content/drive/MyDrive/Thesis/df_cleaned.csv',sep=\",\",header=0,index_col=False)\n",
        "\n"
      ],
      "execution_count": null,
      "outputs": [
        {
          "output_type": "stream",
          "name": "stdout",
          "text": [
            "Mounted at /content/drive/\n"
          ]
        }
      ]
    },
    {
      "cell_type": "code",
      "metadata": {
        "colab": {
          "base_uri": "https://localhost:8080/"
        },
        "id": "caH17yY7qWFP",
        "outputId": "8ac8f7ec-1e26-4c3c-c681-e68cf969a6d6"
      },
      "source": [
        "df.columns"
      ],
      "execution_count": null,
      "outputs": [
        {
          "output_type": "execute_result",
          "data": {
            "text/plain": [
              "Index(['st_nationality', 'st_gender', 'st_state', 'st_resi_country',\n",
              "       'st_is_ethnic', 'st_ethnicity', 'st_resi_dept', 'fam_home_strat',\n",
              "       'fam_inh_home', 'fam_home_rooms', 'fam_edu_father', 'fam_edu_mother',\n",
              "       'fam_work_father', 'fam_work_mother', 'fam_has_internet',\n",
              "       'fam_has_tv_serv', 'fam_has_pc', 'fam_has_wm', 'fam_has_cooker',\n",
              "       'fam_has_car', 'fam_has_mbike', 'fam_has_vgames', 'fam_num_books',\n",
              "       'fam_eat_dairy', 'fam_eat_meat', 'fam_eat_vegfruitcereal',\n",
              "       'fam_econ_state', 'stu_daily_reading', 'stu_daily_internet',\n",
              "       'stu_wkly_wrk_hr', 'stu_comp_type', 'sch_gender', 'sch_nature',\n",
              "       'sch_calen', 'sch_bilingual', 'sch_type', 'sch_loc_type',\n",
              "       'sch_day_time', 'st_is_conv', 'st_dept_pr', 'st_inv_stat',\n",
              "       'total_score', 'st_socioecon_index', 'sch_socioecon_level', 'age'],\n",
              "      dtype='object')"
            ]
          },
          "metadata": {},
          "execution_count": 3
        }
      ]
    },
    {
      "cell_type": "code",
      "metadata": {
        "id": "vfBdS23A5sf6"
      },
      "source": [
        "st_vars = ['st_nationality', 'st_gender', 'st_state', 'st_resi_country', 'st_is_ethnic', 'st_ethnicity','stu_daily_reading', 'stu_daily_internet', \\\n",
        "           'st_resi_dept','st_dept_pr','stu_wkly_wrk_hr', 'stu_comp_type','st_inv_stat','st_is_conv','st_socioecon_index','age','total_score']\n",
        "fam_vars = ['fam_inh_home', 'fam_home_rooms', 'fam_edu_father', 'fam_edu_mother',\\\n",
        "       'fam_work_father', 'fam_work_mother', 'fam_has_internet',\\\n",
        "       'fam_has_tv_serv', 'fam_has_pc', 'fam_has_wm', 'fam_has_cooker',\\\n",
        "       'fam_has_car', 'fam_has_mbike', 'fam_has_vgames', 'fam_num_books',\\\n",
        "       'fam_eat_dairy', 'fam_eat_meat', 'fam_eat_vegfruitcereal',\\\n",
        "       'fam_econ_state', 'fam_home_strat','total_score']\n",
        "sch_vars = ['sch_gender', 'sch_nature', 'sch_calen', 'sch_bilingual', 'sch_type', 'sch_loc_type',\\\n",
        "            'sch_day_time', 'sch_socioecon_level','total_score']"
      ],
      "execution_count": null,
      "outputs": []
    },
    {
      "cell_type": "code",
      "metadata": {
        "id": "k6gg1eDEqPjg"
      },
      "source": [
        "df=df[sch_vars]"
      ],
      "execution_count": null,
      "outputs": []
    },
    {
      "cell_type": "code",
      "metadata": {
        "id": "qdUOD2o54ErH"
      },
      "source": [
        "#train-valid-test\n",
        "train = df\n",
        "target = 'total_score'\n",
        "if \"Set\" not in train.columns:\n",
        "    train[\"Set\"] = np.random.choice([\"train\", \"valid\", \"test\"], p =[.98, .01, .01], size=(train.shape[0],))\n",
        "\n",
        "train_indices = train[train.Set==\"train\"].index\n",
        "valid_indices = train[train.Set==\"valid\"].index\n",
        "test_indices = train[train.Set==\"test\"].index"
      ],
      "execution_count": null,
      "outputs": []
    },
    {
      "cell_type": "code",
      "metadata": {
        "id": "GYhp9y4Z416I",
        "colab": {
          "base_uri": "https://localhost:8080/"
        },
        "outputId": "611eb8dd-e829-4f8c-e524-9e438133830f"
      },
      "source": [
        "categorical_columns = []\n",
        "categorical_dims =  {}\n",
        "for col in train.columns[train.dtypes == object]:\n",
        "    print(col, train[col].nunique())\n",
        "    l_enc = LabelEncoder()\n",
        "    train[col] = train[col].fillna(\"VV_likely\")\n",
        "    train[col] = l_enc.fit_transform(train[col].values)\n",
        "    categorical_columns.append(col)\n",
        "    categorical_dims[col] = len(l_enc.classes_)\n",
        "\n",
        "for col in train.columns[train.dtypes == 'float64']:\n",
        "    train.fillna(train.loc[train_indices, col].mean(), inplace=True)"
      ],
      "execution_count": null,
      "outputs": [
        {
          "output_type": "stream",
          "name": "stdout",
          "text": [
            "sch_gender 3\n",
            "sch_nature 2\n",
            "sch_calen 3\n",
            "sch_type 4\n",
            "sch_loc_type 2\n",
            "sch_day_time 6\n",
            "Set 3\n"
          ]
        }
      ]
    },
    {
      "cell_type": "code",
      "metadata": {
        "id": "nKFBl-A66QYQ"
      },
      "source": [
        "unused_feat = ['Set']\n",
        "\n",
        "features = [ col for col in train.columns if col not in unused_feat+[target]] \n",
        "\n",
        "categ_ind = [ i for i, f in enumerate(features) if f in categorical_columns]\n",
        "\n",
        "cat_dims = [ categorical_dims[f] for i, f in enumerate(features) if f in categorical_columns]\n"
      ],
      "execution_count": null,
      "outputs": []
    },
    {
      "cell_type": "code",
      "metadata": {
        "id": "ZDmFv1x9D7sn"
      },
      "source": [
        "X_train = train.loc[train_indices,features].values\n",
        "y_train = train.loc[train_indices,target].values.reshape(-1, 1)\n",
        "\n",
        "X_valid = train.loc[valid_indices,features].values\n",
        "y_valid = train.loc[valid_indices,target].values.reshape(-1, 1)\n",
        "\n",
        "X_test = train.loc[test_indices,features].values\n",
        "y_test = train.loc[test_indices,target].values.reshape(-1, 1)"
      ],
      "execution_count": null,
      "outputs": []
    },
    {
      "cell_type": "code",
      "metadata": {
        "id": "aBNhoF7YK2zk",
        "colab": {
          "base_uri": "https://localhost:8080/"
        },
        "outputId": "e5c9ccff-f064-494f-e5cb-6722c1d94d42"
      },
      "source": [
        "from torch.optim import Adam\n",
        "from torch.optim.lr_scheduler import ReduceLROnPlateau, CosineAnnealingWarmRestarts\n",
        "tabnet_params = dict(\n",
        "   \n",
        "    n_d = 16,\n",
        "    n_a = 16,\n",
        "    n_steps = 9,\n",
        "    gamma = 1.2,\n",
        "    n_independent = 2,\n",
        "    n_shared = 2,\n",
        "    lambda_sparse = 0.00001,\n",
        "    cat_idxs= categ_ind,\n",
        "    cat_dims = cat_dims,\n",
        "    optimizer_fn = Adam,\n",
        "    optimizer_params = dict(lr = (2e-2)),\n",
        "    mask_type = \"sparsemax\",\n",
        "    scheduler_params={\"step_size\":10, \"gamma\":0.9},\n",
        "    scheduler_fn=torch.optim.lr_scheduler.StepLR,\n",
        "    seed = 42,\n",
        "    verbose = 1,\n",
        "    cat_emb_dim=1   \n",
        ")\n",
        "reg_1 = TabNetRegressor(**tabnet_params)"
      ],
      "execution_count": null,
      "outputs": [
        {
          "output_type": "stream",
          "name": "stdout",
          "text": [
            "Device used : cuda\n"
          ]
        }
      ]
    },
    {
      "cell_type": "code",
      "metadata": {
        "colab": {
          "base_uri": "https://localhost:8080/"
        },
        "id": "DHHvbv5gVk3n",
        "outputId": "72192c22-5206-4178-fdc5-f3234ee0a1b7"
      },
      "source": [
        "reg_1.fit(\n",
        "    X_train=X_train, y_train=y_train,\n",
        "    eval_set=[(X_train, y_train), (X_valid, y_valid)],\n",
        "    eval_name=['train', 'valid'],\n",
        "    eval_metric=['mse'],\n",
        "    max_epochs=200,\n",
        "    patience=10,\n",
        "    batch_size=\t8192, virtual_batch_size=128,\n",
        "    num_workers=2,\n",
        "    drop_last=False\n",
        ")"
      ],
      "execution_count": null,
      "outputs": [
        {
          "output_type": "stream",
          "name": "stdout",
          "text": [
            "epoch 0  | loss: 16998.89204| train_mse: 2666.01817| valid_mse: 2602.66837|  0:01:55s\n",
            "epoch 1  | loss: 1910.7165| train_mse: 1928.42744| valid_mse: 1885.36586|  0:03:48s\n",
            "epoch 2  | loss: 1893.08352| train_mse: 1885.46006| valid_mse: 1849.11039|  0:05:47s\n",
            "epoch 3  | loss: 1884.36462| train_mse: 1887.64274| valid_mse: 1859.36837|  0:07:46s\n",
            "epoch 4  | loss: 1877.04711| train_mse: 1878.40691| valid_mse: 1848.93772|  0:09:45s\n",
            "epoch 5  | loss: 1875.39704| train_mse: 1879.75637| valid_mse: 1855.38526|  0:11:44s\n",
            "epoch 6  | loss: 1872.11321| train_mse: 1873.73207| valid_mse: 1846.17022|  0:13:43s\n",
            "epoch 7  | loss: 1872.4125| train_mse: 1868.79862| valid_mse: 1843.47307|  0:15:41s\n",
            "epoch 8  | loss: 1870.155| train_mse: 1862.08137| valid_mse: 1835.9345|  0:17:38s\n",
            "epoch 9  | loss: 1868.16513| train_mse: 1862.93658| valid_mse: 1830.27101|  0:19:37s\n",
            "epoch 10 | loss: 1866.98503| train_mse: 1864.87798| valid_mse: 1837.18545|  0:21:37s\n",
            "epoch 11 | loss: 1864.91294| train_mse: 1862.38114| valid_mse: 1837.4437|  0:23:37s\n",
            "epoch 12 | loss: 1865.29701| train_mse: 1859.82676| valid_mse: 1833.13783|  0:25:37s\n",
            "epoch 13 | loss: 1863.93125| train_mse: 1859.29638| valid_mse: 1831.582|  0:27:37s\n",
            "epoch 14 | loss: 1863.56191| train_mse: 1864.46094| valid_mse: 1838.44662|  0:29:37s\n",
            "epoch 15 | loss: 1865.68085| train_mse: 1859.93296| valid_mse: 1833.11057|  0:31:35s\n",
            "epoch 16 | loss: 1864.45616| train_mse: 1863.44452| valid_mse: 1831.40845|  0:33:35s\n",
            "epoch 17 | loss: 1863.58786| train_mse: 1863.462| valid_mse: 1837.89923|  0:35:34s\n",
            "epoch 18 | loss: 1863.89438| train_mse: 1859.23045| valid_mse: 1829.50344|  0:37:31s\n",
            "epoch 19 | loss: 1863.26669| train_mse: 1858.27903| valid_mse: 1830.45598|  0:39:25s\n",
            "epoch 20 | loss: 1860.65068| train_mse: 1861.47061| valid_mse: 1834.61851|  0:41:19s\n",
            "epoch 21 | loss: 1862.44744| train_mse: 1915.25618| valid_mse: 1892.88093|  0:43:12s\n",
            "epoch 22 | loss: 1870.28696| train_mse: 1862.13446| valid_mse: 1830.82739|  0:45:04s\n",
            "epoch 23 | loss: 1863.18779| train_mse: 1857.86236| valid_mse: 1829.16207|  0:46:58s\n",
            "epoch 24 | loss: 1862.60601| train_mse: 1858.18505| valid_mse: 1829.66646|  0:48:53s\n",
            "epoch 25 | loss: 1861.05464| train_mse: 1859.32382| valid_mse: 1828.73154|  0:50:46s\n",
            "epoch 26 | loss: 1861.53087| train_mse: 1878.57379| valid_mse: 1844.50631|  0:52:39s\n",
            "epoch 27 | loss: 1861.46738| train_mse: 1869.93618| valid_mse: 1839.66041|  0:54:31s\n",
            "epoch 28 | loss: 1860.7135| train_mse: 1859.35424| valid_mse: 1829.6841|  0:56:23s\n",
            "epoch 29 | loss: 1860.95194| train_mse: 1857.96211| valid_mse: 1828.93926|  0:58:15s\n",
            "epoch 30 | loss: 1859.09568| train_mse: 1856.63736| valid_mse: 1828.65701|  1:00:06s\n",
            "epoch 31 | loss: 1859.91078| train_mse: 1859.4996| valid_mse: 1829.62147|  1:01:58s\n",
            "epoch 32 | loss: 1864.62363| train_mse: 1859.51869| valid_mse: 1828.8182|  1:03:49s\n",
            "epoch 33 | loss: 1863.13304| train_mse: 1859.82516| valid_mse: 1827.62483|  1:05:39s\n",
            "epoch 34 | loss: 1862.24909| train_mse: 1861.8915| valid_mse: 1832.26542|  1:07:31s\n",
            "epoch 35 | loss: 1861.58943| train_mse: 1858.33603| valid_mse: 1829.52587|  1:09:23s\n",
            "epoch 36 | loss: 1862.08794| train_mse: 1860.51307| valid_mse: 1828.81781|  1:11:13s\n",
            "epoch 37 | loss: 1860.76509| train_mse: 1863.30423| valid_mse: 1838.15129|  1:13:04s\n",
            "epoch 38 | loss: 1859.93963| train_mse: 1859.46139| valid_mse: 1830.4764|  1:14:55s\n",
            "epoch 39 | loss: 1859.72351| train_mse: 1856.63436| valid_mse: 1828.58583|  1:16:49s\n",
            "epoch 40 | loss: 1859.35443| train_mse: 1864.43954| valid_mse: 1836.32771|  1:18:42s\n",
            "epoch 41 | loss: 1858.59724| train_mse: 1855.96871| valid_mse: 1830.58367|  1:20:35s\n",
            "epoch 42 | loss: 1858.46619| train_mse: 1856.83762| valid_mse: 1828.46468|  1:22:28s\n",
            "epoch 43 | loss: 1857.99612| train_mse: 1855.53452| valid_mse: 1826.96083|  1:24:21s\n",
            "epoch 44 | loss: 1858.90878| train_mse: 1858.01172| valid_mse: 1829.29481|  1:26:13s\n",
            "epoch 45 | loss: 1859.23948| train_mse: 1858.38229| valid_mse: 1828.1959|  1:28:07s\n",
            "epoch 46 | loss: 1859.14656| train_mse: 1857.0521| valid_mse: 1828.6665|  1:29:59s\n",
            "epoch 47 | loss: 1858.74153| train_mse: 1855.67633| valid_mse: 1829.16055|  1:31:54s\n",
            "epoch 48 | loss: 1858.83611| train_mse: 1859.98301| valid_mse: 1830.44447|  1:33:46s\n",
            "epoch 49 | loss: 1857.45229| train_mse: 1856.31129| valid_mse: 1828.30388|  1:35:38s\n",
            "epoch 50 | loss: 1858.33204| train_mse: 1859.19735| valid_mse: 1828.0268|  1:37:31s\n",
            "epoch 51 | loss: 1857.38801| train_mse: 1856.53547| valid_mse: 1824.96621|  1:39:24s\n",
            "epoch 52 | loss: 1857.78924| train_mse: 1855.69426| valid_mse: 1826.26338|  1:41:17s\n",
            "epoch 53 | loss: 1856.98342| train_mse: 1855.12141| valid_mse: 1826.26588|  1:43:10s\n",
            "epoch 54 | loss: 1858.53003| train_mse: 1855.38799| valid_mse: 1827.44146|  1:45:05s\n",
            "epoch 55 | loss: 1858.10216| train_mse: 1856.6689| valid_mse: 1826.87519|  1:46:57s\n",
            "epoch 56 | loss: 1857.93797| train_mse: 1858.22098| valid_mse: 1825.96457|  1:48:50s\n",
            "epoch 57 | loss: 1857.1978| train_mse: 1855.26302| valid_mse: 1824.53225|  1:50:43s\n",
            "epoch 58 | loss: 1856.55349| train_mse: 1854.51528| valid_mse: 1825.23307|  1:52:37s\n",
            "epoch 59 | loss: 1857.234| train_mse: 1856.25188| valid_mse: 1827.36893|  1:54:28s\n",
            "epoch 60 | loss: 1856.11527| train_mse: 1855.44833| valid_mse: 1827.72999|  1:56:20s\n",
            "epoch 61 | loss: 1856.11552| train_mse: 1855.08893| valid_mse: 1824.59062|  1:58:12s\n",
            "epoch 62 | loss: 1855.93884| train_mse: 1853.93982| valid_mse: 1823.0537|  2:00:05s\n",
            "epoch 63 | loss: 1855.75407| train_mse: 1853.77281| valid_mse: 1825.4563|  2:01:58s\n",
            "epoch 64 | loss: 1856.15289| train_mse: 1855.69023| valid_mse: 1825.23633|  2:03:50s\n",
            "epoch 65 | loss: 1855.44277| train_mse: 1854.74493| valid_mse: 1826.08477|  2:05:42s\n",
            "epoch 66 | loss: 1856.16965| train_mse: 1857.51043| valid_mse: 1825.8341|  2:07:35s\n",
            "epoch 67 | loss: 1855.96156| train_mse: 1857.23129| valid_mse: 1831.34302|  2:09:28s\n",
            "epoch 68 | loss: 1855.65966| train_mse: 1854.27423| valid_mse: 1825.51346|  2:11:20s\n",
            "epoch 69 | loss: 1856.05593| train_mse: 1853.91499| valid_mse: 1827.30396|  2:13:14s\n",
            "epoch 70 | loss: 1856.05969| train_mse: 1853.8864| valid_mse: 1827.33943|  2:15:08s\n",
            "epoch 71 | loss: 1855.31382| train_mse: 1853.44871| valid_mse: 1825.06037|  2:17:01s\n",
            "epoch 72 | loss: 1854.95056| train_mse: 1855.26886| valid_mse: 1826.00899|  2:18:54s\n",
            "\n",
            "Early stopping occurred at epoch 72 with best_epoch = 62 and best_valid_mse = 1823.0537\n",
            "Best weights from best epoch are automatically used!\n"
          ]
        }
      ]
    },
    {
      "cell_type": "code",
      "metadata": {
        "colab": {
          "base_uri": "https://localhost:8080/",
          "height": 410
        },
        "id": "suIyiYh9BTic",
        "outputId": "b3f19bc7-9de3-47ea-d39a-ca4b15a031fe"
      },
      "source": [
        "plt.figure(figsize=[18, 6])\n",
        "plt.subplot(1, 2, 1)\n",
        "plt.plot(reg_1.history['loss'])\n",
        "plt.title('Loss')\n",
        "plt.grid()\n",
        "plt.subplot(1, 2, 2)\n",
        "plt.plot(reg_1.history['train_mse'])\n",
        "plt.plot(reg_1.history['valid_mse'])\n",
        "plt.title('MSE')\n",
        "plt.grid()\n",
        "plt.savefig(\"sch_vars_performance.png\", dpi=100)\n",
        "plt.show()\n",
        "files.download(\"sch_vars_performance.png\")"
      ],
      "execution_count": null,
      "outputs": [
        {
          "output_type": "display_data",
          "data": {
            "image/png": "[encoded data removed]",
            "text/plain": [
              "<Figure size 1296x432 with 2 Axes>"
            ]
          },
          "metadata": {
            "needs_background": "light"
          }
        },
        {
          "output_type": "display_data",
          "data": {
            "application/javascript": [
              "\n",
              "    async function download(id, filename, size) {\n",
              "      if (!google.colab.kernel.accessAllowed) {\n",
              "        return;\n",
              "      }\n",
              "      const div = document.createElement('div');\n",
              "      const label = document.createElement('label');\n",
              "      label.textContent = `Downloading \"${filename}\": `;\n",
              "      div.appendChild(label);\n",
              "      const progress = document.createElement('progress');\n",
              "      progress.max = size;\n",
              "      div.appendChild(progress);\n",
              "      document.body.appendChild(div);\n",
              "\n",
              "      const buffers = [];\n",
              "      let downloaded = 0;\n",
              "\n",
              "      const channel = await google.colab.kernel.comms.open(id);\n",
              "      // Send a message to notify the kernel that we're ready.\n",
              "      channel.send({})\n",
              "\n",
              "      for await (const message of channel.messages) {\n",
              "        // Send a message to notify the kernel that we're ready.\n",
              "        channel.send({})\n",
              "        if (message.buffers) {\n",
              "          for (const buffer of message.buffers) {\n",
              "            buffers.push(buffer);\n",
              "            downloaded += buffer.byteLength;\n",
              "            progress.value = downloaded;\n",
              "          }\n",
              "        }\n",
              "      }\n",
              "      const blob = new Blob(buffers, {type: 'application/binary'});\n",
              "      const a = document.createElement('a');\n",
              "      a.href = window.URL.createObjectURL(blob);\n",
              "      a.download = filename;\n",
              "      div.appendChild(a);\n",
              "      a.click();\n",
              "      div.remove();\n",
              "    }\n",
              "  "
            ],
            "text/plain": [
              "<IPython.core.display.Javascript object>"
            ]
          },
          "metadata": {}
        },
        {
          "output_type": "display_data",
          "data": {
            "application/javascript": [
              "download(\"download_f77def3e-20b6-4698-a1b1-e0a41f7ee986\", \"sch_vars_performance.png\", 45055)"
            ],
            "text/plain": [
              "<IPython.core.display.Javascript object>"
            ]
          },
          "metadata": {}
        }
      ]
    },
    {
      "cell_type": "code",
      "metadata": {
        "id": "t1VWVSV5smg_",
        "colab": {
          "base_uri": "https://localhost:8080/"
        },
        "outputId": "fad956a8-e6dd-499b-adc2-a053f93aceae"
      },
      "source": [
        "preds = reg_1.predict(X_test)\n",
        "MSE = np.square(np.subtract(preds,y_test)).mean() \n",
        "\n",
        "print(f\"BEST VALID SCORE FOR {'ICFES_Saber_11'} : {reg_1.best_cost}\")\n",
        "print(f\"FINAL TEST SCORE FOR {'ICFES_Saber_11'} : {MSE}\")"
      ],
      "execution_count": null,
      "outputs": [
        {
          "output_type": "stream",
          "name": "stdout",
          "text": [
            "BEST VALID SCORE FOR ICFES_Saber_11 : 1823.0537034134722\n",
            "FINAL TEST SCORE FOR ICFES_Saber_11 : 1878.3663709563925\n"
          ]
        }
      ]
    },
    {
      "cell_type": "code",
      "metadata": {
        "id": "oOZDpj6At36_",
        "colab": {
          "base_uri": "https://localhost:8080/",
          "height": 518
        },
        "outputId": "861867b9-2eb1-4340-f510-19df4c3b5d86"
      },
      "source": [
        "explain_matrix, masks = reg_1.explain(X_test)\n",
        "\n",
        "fig, axs = plt.subplots(1, 9, figsize=(20,8))\n",
        "\n",
        "for i in range(9):\n",
        "    \n",
        "    axs[i].imshow(masks[i][:50])\n",
        "    axs[i].set_title(f\"mask {i}\")\n",
        "plt.savefig(\"importance masks_sch_vars.png\", dpi=100)\n",
        "plt.show()\n",
        "files.download(\"importance masks_sch_vars.png\")"
      ],
      "execution_count": null,
      "outputs": [
        {
          "output_type": "display_data",
          "data": {
            "image/png": "[encoded data removed]",
            "text/plain": [
              "<Figure size 1440x576 with 9 Axes>"
            ]
          },
          "metadata": {
            "needs_background": "light"
          }
        },
        {
          "output_type": "display_data",
          "data": {
            "application/javascript": [
              "\n",
              "    async function download(id, filename, size) {\n",
              "      if (!google.colab.kernel.accessAllowed) {\n",
              "        return;\n",
              "      }\n",
              "      const div = document.createElement('div');\n",
              "      const label = document.createElement('label');\n",
              "      label.textContent = `Downloading \"${filename}\": `;\n",
              "      div.appendChild(label);\n",
              "      const progress = document.createElement('progress');\n",
              "      progress.max = size;\n",
              "      div.appendChild(progress);\n",
              "      document.body.appendChild(div);\n",
              "\n",
              "      const buffers = [];\n",
              "      let downloaded = 0;\n",
              "\n",
              "      const channel = await google.colab.kernel.comms.open(id);\n",
              "      // Send a message to notify the kernel that we're ready.\n",
              "      channel.send({})\n",
              "\n",
              "      for await (const message of channel.messages) {\n",
              "        // Send a message to notify the kernel that we're ready.\n",
              "        channel.send({})\n",
              "        if (message.buffers) {\n",
              "          for (const buffer of message.buffers) {\n",
              "            buffers.push(buffer);\n",
              "            downloaded += buffer.byteLength;\n",
              "            progress.value = downloaded;\n",
              "          }\n",
              "        }\n",
              "      }\n",
              "      const blob = new Blob(buffers, {type: 'application/binary'});\n",
              "      const a = document.createElement('a');\n",
              "      a.href = window.URL.createObjectURL(blob);\n",
              "      a.download = filename;\n",
              "      div.appendChild(a);\n",
              "      a.click();\n",
              "      div.remove();\n",
              "    }\n",
              "  "
            ],
            "text/plain": [
              "<IPython.core.display.Javascript object>"
            ]
          },
          "metadata": {}
        },
        {
          "output_type": "display_data",
          "data": {
            "application/javascript": [
              "download(\"download_d38eee39-dfd1-4213-8669-194e36ab7705\", \"importance masks_sch_vars.png\", 22547)"
            ],
            "text/plain": [
              "<IPython.core.display.Javascript object>"
            ]
          },
          "metadata": {}
        }
      ]
    },
    {
      "cell_type": "code",
      "metadata": {
        "id": "CbvRiuQV8jgj",
        "colab": {
          "base_uri": "https://localhost:8080/",
          "height": 410
        },
        "outputId": "47255abc-af66-4709-df50-da1a159c231a"
      },
      "source": [
        "from google.colab import files\n",
        "feat_importances = reg_1.feature_importances_\n",
        "indices = np.argsort(feat_importances)\n",
        "# plot\n",
        "fig, ax = plt.subplots(figsize=(15, 6))\n",
        "plt.title(\"Ranking feature importances\")\n",
        "plt.barh(range(len(feat_importances)), feat_importances[indices],color=\"b\", align=\"center\")\n",
        "plt.yticks(range(len(feat_importances)), [features[idx] for idx in indices])\n",
        "# all features\n",
        "plt.ylim([-1, len(feat_importances)])\n",
        "# Top 25 features\n",
        "plt.ylim([len(feat_importances)-9, len(feat_importances)])\n",
        "plt.savefig(\"Feat_importance_sch_vars.png\", dpi=100)\n",
        "plt.show()\n",
        "files.download(\"Feat_importance_sch_vars.png\")"
      ],
      "execution_count": null,
      "outputs": [
        {
          "output_type": "display_data",
          "data": {
            "image/png": "[encoded data removed]",
            "text/plain": [
              "<Figure size 1080x432 with 1 Axes>"
            ]
          },
          "metadata": {
            "needs_background": "light"
          }
        },
        {
          "output_type": "display_data",
          "data": {
            "application/javascript": [
              "\n",
              "    async function download(id, filename, size) {\n",
              "      if (!google.colab.kernel.accessAllowed) {\n",
              "        return;\n",
              "      }\n",
              "      const div = document.createElement('div');\n",
              "      const label = document.createElement('label');\n",
              "      label.textContent = `Downloading \"${filename}\": `;\n",
              "      div.appendChild(label);\n",
              "      const progress = document.createElement('progress');\n",
              "      progress.max = size;\n",
              "      div.appendChild(progress);\n",
              "      document.body.appendChild(div);\n",
              "\n",
              "      const buffers = [];\n",
              "      let downloaded = 0;\n",
              "\n",
              "      const channel = await google.colab.kernel.comms.open(id);\n",
              "      // Send a message to notify the kernel that we're ready.\n",
              "      channel.send({})\n",
              "\n",
              "      for await (const message of channel.messages) {\n",
              "        // Send a message to notify the kernel that we're ready.\n",
              "        channel.send({})\n",
              "        if (message.buffers) {\n",
              "          for (const buffer of message.buffers) {\n",
              "            buffers.push(buffer);\n",
              "            downloaded += buffer.byteLength;\n",
              "            progress.value = downloaded;\n",
              "          }\n",
              "        }\n",
              "      }\n",
              "      const blob = new Blob(buffers, {type: 'application/binary'});\n",
              "      const a = document.createElement('a');\n",
              "      a.href = window.URL.createObjectURL(blob);\n",
              "      a.download = filename;\n",
              "      div.appendChild(a);\n",
              "      a.click();\n",
              "      div.remove();\n",
              "    }\n",
              "  "
            ],
            "text/plain": [
              "<IPython.core.display.Javascript object>"
            ]
          },
          "metadata": {}
        },
        {
          "output_type": "display_data",
          "data": {
            "application/javascript": [
              "download(\"download_90696e92-6760-4bdd-a4d0-ddb34cfba2f7\", \"Feat_importance_sch_vars.png\", 29719)"
            ],
            "text/plain": [
              "<IPython.core.display.Javascript object>"
            ]
          },
          "metadata": {}
        }
      ]
    }
  ]
}