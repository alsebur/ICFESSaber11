{
  "nbformat": 4,
  "nbformat_minor": 0,
  "metadata": {
    "accelerator": "GPU",
    "colab": {
      "name": "TabNet.ipynb",
      "provenance": [],
      "collapsed_sections": [],
      "machine_shape": "hm"
    },
    "kernelspec": {
      "display_name": "Python 3",
      "name": "python3"
    },
    "language_info": {
      "name": "python"
    }
  },
  "cells": [
    {
      "cell_type": "code",
      "metadata": {
        "colab": {
          "base_uri": "https://localhost:8080/"
        },
        "id": "vnZrIXQK2jr4",
        "outputId": "5ff4336a-4994-4d33-acc4-b07d101c821e"
      },
      "source": [
        "!pip install tensorflow_addons\n",
        "!pip install pytorch-tabnet\n",
        "import pandas as pd\n",
        "import numpy as np\n",
        "from scipy import stats\n",
        "from sklearn.model_selection import train_test_split\n",
        "import torch\n",
        "import tensorflow as tf\n",
        "from tensorflow import keras\n",
        "from typing import Optional, Union, Tuple\n",
        "from pytorch_tabnet.tab_model import TabNetRegressor\n",
        "import tensorflow_probability as tfp\n",
        "import tensorflow_addons as tfa\n",
        "import tensorflow.python\n",
        "from sklearn.preprocessing import LabelEncoder\n",
        "from sklearn.metrics import mean_squared_error\n",
        "from tensorflow.keras import layers\n",
        "from keras.callbacks import EarlyStopping\n",
        "import matplotlib.pyplot as plt\n",
        "import seaborn as sns\n",
        "from sklearn.preprocessing import OneHotEncoder\n",
        "from sklearn.compose import ColumnTransformer\n",
        "import sklearn \n",
        "import sklearn.linear_model \n",
        "import matplotlib \n",
        "from keras.models import Sequential\n",
        "from keras.layers import Dense\n",
        "from keras import backend as K\n",
        "sns.set(rc={'figure.figsize':(11.7,8.27)})\n",
        "\n",
        "from tensorflow.python.client import device_lib\n",
        "print(device_lib.list_local_devices())"
      ],
      "execution_count": null,
      "outputs": [
        {
          "output_type": "stream",
          "name": "stdout",
          "text": [
            "Collecting tensorflow_addons\n",
            "  Downloading tensorflow_addons-0.15.0-cp37-cp37m-manylinux_2_12_x86_64.manylinux2010_x86_64.whl (1.1 MB)\n",
            "\u001b[K     |████████████████████████████████| 1.1 MB 8.2 MB/s \n",
            "\u001b[?25hRequirement already satisfied: typeguard>=2.7 in /usr/local/lib/python3.7/dist-packages (from tensorflow_addons) (2.7.1)\n",
            "Installing collected packages: tensorflow-addons\n",
            "Successfully installed tensorflow-addons-0.15.0\n",
            "Collecting pytorch-tabnet\n",
            "  Downloading pytorch_tabnet-3.1.1-py3-none-any.whl (39 kB)\n",
            "Requirement already satisfied: scipy>1.4 in /usr/local/lib/python3.7/dist-packages (from pytorch-tabnet) (1.4.1)\n",
            "Requirement already satisfied: torch<2.0,>=1.2 in /usr/local/lib/python3.7/dist-packages (from pytorch-tabnet) (1.10.0+cu111)\n",
            "Requirement already satisfied: numpy<2.0,>=1.17 in /usr/local/lib/python3.7/dist-packages (from pytorch-tabnet) (1.19.5)\n",
            "Requirement already satisfied: tqdm<5.0,>=4.36 in /usr/local/lib/python3.7/dist-packages (from pytorch-tabnet) (4.62.3)\n",
            "Requirement already satisfied: scikit_learn>0.21 in /usr/local/lib/python3.7/dist-packages (from pytorch-tabnet) (1.0.1)\n",
            "Requirement already satisfied: joblib>=0.11 in /usr/local/lib/python3.7/dist-packages (from scikit_learn>0.21->pytorch-tabnet) (1.1.0)\n",
            "Requirement already satisfied: threadpoolctl>=2.0.0 in /usr/local/lib/python3.7/dist-packages (from scikit_learn>0.21->pytorch-tabnet) (3.0.0)\n",
            "Requirement already satisfied: typing-extensions in /usr/local/lib/python3.7/dist-packages (from torch<2.0,>=1.2->pytorch-tabnet) (3.10.0.2)\n",
            "Installing collected packages: pytorch-tabnet\n",
            "Successfully installed pytorch-tabnet-3.1.1\n",
            "[name: \"/device:CPU:0\"\n",
            "device_type: \"CPU\"\n",
            "memory_limit: 268435456\n",
            "locality {\n",
            "}\n",
            "incarnation: 3809417134433844876\n",
            "xla_global_id: -1\n",
            ", name: \"/device:GPU:0\"\n",
            "device_type: \"GPU\"\n",
            "memory_limit: 15371862016\n",
            "locality {\n",
            "  bus_id: 1\n",
            "  links {\n",
            "  }\n",
            "}\n",
            "incarnation: 8470337856792644686\n",
            "physical_device_desc: \"device: 0, name: Tesla P100-PCIE-16GB, pci bus id: 0000:00:04.0, compute capability: 6.0\"\n",
            "xla_global_id: 416903419\n",
            "]\n"
          ]
        }
      ]
    },
    {
      "cell_type": "code",
      "metadata": {
        "colab": {
          "base_uri": "https://localhost:8080/"
        },
        "id": "atojoLAx3qEI",
        "outputId": "c426b914-0d20-42a5-d82f-bdaa7b1977a4"
      },
      "source": [
        "#mount drive\n",
        "from google.colab import drive\n",
        "from google.colab import files\n",
        "drive.mount(\"/content/drive/\")\n",
        "#read file\n",
        "df = pd.read_csv('/content/drive/MyDrive/Thesis/df_cleaned.csv',sep=\",\",header=0,index_col=False)\n",
        "\n"
      ],
      "execution_count": null,
      "outputs": [
        {
          "output_type": "stream",
          "name": "stdout",
          "text": [
            "Mounted at /content/drive/\n"
          ]
        }
      ]
    },
    {
      "cell_type": "code",
      "metadata": {
        "colab": {
          "base_uri": "https://localhost:8080/"
        },
        "id": "wqWq9rAKenT2",
        "outputId": "49761658-7579-4b4b-f7ba-6d71de550cd9"
      },
      "source": [
        "df.shape"
      ],
      "execution_count": null,
      "outputs": [
        {
          "output_type": "execute_result",
          "data": {
            "text/plain": [
              "(1061219, 45)"
            ]
          },
          "metadata": {},
          "execution_count": 3
        }
      ]
    },
    {
      "cell_type": "code",
      "metadata": {
        "id": "qdUOD2o54ErH"
      },
      "source": [
        "#train-valid-test\n",
        "train = df\n",
        "target = 'total_score'\n",
        "if \"Set\" not in train.columns:\n",
        "    train[\"Set\"] = np.random.choice([\"train\", \"valid\", \"test\"], p =[.98, .01, .01], size=(train.shape[0],))\n",
        "\n",
        "train_indices = train[train.Set==\"train\"].index\n",
        "valid_indices = train[train.Set==\"valid\"].index\n",
        "test_indices = train[train.Set==\"test\"].index"
      ],
      "execution_count": null,
      "outputs": []
    },
    {
      "cell_type": "code",
      "metadata": {
        "id": "GYhp9y4Z416I"
      },
      "source": [
        "categorical_columns = []\n",
        "categorical_dims =  {}\n",
        "for col in train.columns[train.dtypes == object]:\n",
        "    print(col, train[col].nunique())\n",
        "    l_enc = LabelEncoder()\n",
        "    train[col] = train[col].fillna(\"VV_likely\")\n",
        "    train[col] = l_enc.fit_transform(train[col].values)\n",
        "    categorical_columns.append(col)\n",
        "    categorical_dims[col] = len(l_enc.classes_)\n",
        "\n",
        "for col in train.columns[train.dtypes == 'float64']:\n",
        "    train.fillna(train.loc[train_indices, col].mean(), inplace=True)"
      ],
      "execution_count": null,
      "outputs": []
    },
    {
      "cell_type": "code",
      "metadata": {
        "id": "nKFBl-A66QYQ"
      },
      "source": [
        "unused_feat = ['Set']\n",
        "\n",
        "features = [ col for col in train.columns if col not in unused_feat+[target]] \n",
        "\n",
        "categorical_indxs = [ i for i, f in enumerate(features) if f in categorical_columns]\n",
        "\n",
        "cat_dims = [ categorical_dims[f] for i, f in enumerate(features) if f in categorical_columns]\n"
      ],
      "execution_count": null,
      "outputs": []
    },
    {
      "cell_type": "code",
      "metadata": {
        "id": "ZDmFv1x9D7sn"
      },
      "source": [
        "X_train = train.loc[train_indices,features].values\n",
        "y_train = train.loc[train_indices,target].values.reshape(-1, 1)\n",
        "\n",
        "X_valid = train.loc[valid_indices,features].values\n",
        "y_valid = train.loc[valid_indices,target].values.reshape(-1, 1)\n",
        "\n",
        "X_test = train.loc[test_indices,features].values\n",
        "y_test = train.loc[test_indices,target].values.reshape(-1, 1)"
      ],
      "execution_count": null,
      "outputs": []
    },
    {
      "cell_type": "code",
      "metadata": {
        "id": "aBNhoF7YK2zk",
        "colab": {
          "base_uri": "https://localhost:8080/"
        },
        "outputId": "7d7369c4-e614-4da8-de54-e1775fef5677"
      },
      "source": [
        "from torch.optim import Adam\n",
        "from torch.optim.lr_scheduler import ReduceLROnPlateau, CosineAnnealingWarmRestarts\n",
        "tabnet_params = dict(\n",
        "   \n",
        "    n_d = 16,\n",
        "    n_a = 16,\n",
        "    n_steps = 9,\n",
        "    gamma = 1.2,\n",
        "    n_independent = 2,\n",
        "    n_shared = 2,\n",
        "    lambda_sparse = 0.00001,\n",
        "    cat_idxs= categorical_indxs,\n",
        "    cat_dims = cat_dims,\n",
        "    optimizer_fn = Adam,\n",
        "    optimizer_params = dict(lr = (2e-2)),\n",
        "    scheduler_params={\"step_size\":10, \"gamma\":0.9},\n",
        "    scheduler_fn=torch.optim.lr_scheduler.StepLR,\n",
        "    mask_type = \"sparsemax\",\n",
        "    seed = 42,\n",
        "    verbose = 1,\n",
        "    cat_emb_dim=1   \n",
        ")\n",
        "reg_1 = TabNetRegressor(**tabnet_params)"
      ],
      "execution_count": null,
      "outputs": [
        {
          "output_type": "stream",
          "name": "stdout",
          "text": [
            "Device used : cuda\n"
          ]
        }
      ]
    },
    {
      "cell_type": "code",
      "metadata": {
        "colab": {
          "base_uri": "https://localhost:8080/"
        },
        "id": "DHHvbv5gVk3n",
        "outputId": "b1a013bd-1bd2-403f-caf4-c23c902ffbdf"
      },
      "source": [
        "reg_1.fit(\n",
        "    X_train=X_train, y_train=y_train,\n",
        "    eval_set=[(X_train, y_train), (X_valid, y_valid)],\n",
        "    eval_name=['train', 'valid'],\n",
        "    eval_metric=['mse'],\n",
        "    max_epochs=200,\n",
        "    patience=10,\n",
        "    batch_size=\t8192, virtual_batch_size=128,\n",
        "    num_workers=2,\n",
        "    drop_last=False\n",
        ")"
      ],
      "execution_count": null,
      "outputs": [
        {
          "output_type": "stream",
          "name": "stdout",
          "text": [
            "epoch 0  | loss: 16297.67009| train_mse: 2577.43212| valid_mse: 2538.4985|  0:01:54s\n",
            "epoch 1  | loss: 1908.68609| train_mse: 1915.53253| valid_mse: 1925.52622|  0:03:50s\n",
            "epoch 2  | loss: 1795.97473| train_mse: 1746.30241| valid_mse: 1730.93605|  0:05:46s\n",
            "epoch 3  | loss: 1755.80162| train_mse: 1777.46821| valid_mse: 1773.1587|  0:07:43s\n",
            "epoch 4  | loss: 1734.80574| train_mse: 1726.23686| valid_mse: 1716.70528|  0:09:39s\n",
            "epoch 5  | loss: 1706.17876| train_mse: 1656.53719| valid_mse: 1637.4091|  0:11:34s\n",
            "epoch 6  | loss: 1640.28452| train_mse: 1601.2384| valid_mse: 1585.60777|  0:13:30s\n",
            "epoch 7  | loss: 1574.4259| train_mse: 1558.71949| valid_mse: 1545.7647|  0:15:27s\n",
            "epoch 8  | loss: 1497.50503| train_mse: 1487.94849| valid_mse: 1475.7407|  0:17:23s\n",
            "epoch 9  | loss: 1463.47758| train_mse: 1479.9442| valid_mse: 1475.14038|  0:19:20s\n",
            "epoch 10 | loss: 1450.00355| train_mse: 1443.01129| valid_mse: 1438.29853|  0:21:16s\n",
            "epoch 11 | loss: 1441.49993| train_mse: 1491.09347| valid_mse: 1489.12946|  0:23:12s\n",
            "epoch 12 | loss: 1434.59433| train_mse: 1536.55602| valid_mse: 1538.10796|  0:25:08s\n",
            "epoch 13 | loss: 1432.97171| train_mse: 1623.40244| valid_mse: 1627.83057|  0:27:04s\n",
            "epoch 14 | loss: 1428.21071| train_mse: 1420.13323| valid_mse: 1422.0315|  0:29:00s\n",
            "epoch 15 | loss: 1424.62495| train_mse: 1503.40153| valid_mse: 1508.6829|  0:30:55s\n",
            "epoch 16 | loss: 1420.58853| train_mse: 1415.57614| valid_mse: 1423.36506|  0:32:50s\n",
            "epoch 17 | loss: 1419.82071| train_mse: 1935.40571| valid_mse: 1926.53021|  0:34:46s\n",
            "epoch 18 | loss: 1417.39437| train_mse: 1414.04455| valid_mse: 1417.10741|  0:36:42s\n",
            "epoch 19 | loss: 1415.24716| train_mse: 3239.53102| valid_mse: 3230.34536|  0:38:39s\n",
            "epoch 20 | loss: 1413.3343| train_mse: 1650.80697| valid_mse: 1648.9203|  0:40:35s\n",
            "epoch 21 | loss: 1411.77137| train_mse: 1407.70909| valid_mse: 1407.69633|  0:42:31s\n",
            "epoch 22 | loss: 1411.03594| train_mse: 1684.04723| valid_mse: 1680.07588|  0:44:27s\n",
            "epoch 23 | loss: 1407.86183| train_mse: 1599.52457| valid_mse: 1601.22668|  0:46:20s\n",
            "epoch 24 | loss: 1406.32577| train_mse: 1516.12492| valid_mse: 1502.33346|  0:48:13s\n",
            "epoch 25 | loss: 1407.6689| train_mse: 1403.44071| valid_mse: 1410.61114|  0:50:07s\n",
            "epoch 26 | loss: 1405.58111| train_mse: 1453.77517| valid_mse: 1452.07593|  0:52:01s\n",
            "epoch 27 | loss: 1403.56001| train_mse: 1410.76355| valid_mse: 1412.07749|  0:53:56s\n",
            "epoch 28 | loss: 1403.40978| train_mse: 1389.56903| valid_mse: 1398.17689|  0:55:51s\n",
            "epoch 29 | loss: 1405.31661| train_mse: 3351.0621| valid_mse: 3375.80539|  0:57:47s\n",
            "epoch 30 | loss: 1404.24756| train_mse: 1661.2127| valid_mse: 1654.55702|  0:59:42s\n",
            "epoch 31 | loss: 1400.24037| train_mse: 1393.97712| valid_mse: 1397.66984|  1:01:37s\n",
            "epoch 32 | loss: 1401.72734| train_mse: 1407.93473| valid_mse: 1409.00566|  1:03:32s\n",
            "epoch 33 | loss: 1399.7144| train_mse: 1447.91307| valid_mse: 1443.56532|  1:05:26s\n",
            "epoch 34 | loss: 1399.97186| train_mse: 1455.00623| valid_mse: 1463.24625|  1:07:21s\n",
            "epoch 35 | loss: 1395.95545| train_mse: 1436.75832| valid_mse: 1433.8055|  1:09:16s\n",
            "epoch 36 | loss: 1394.96244| train_mse: 3057.85675| valid_mse: 3084.70677|  1:11:10s\n",
            "epoch 37 | loss: 1393.4186| train_mse: 1524.39638| valid_mse: 1515.41917|  1:13:05s\n",
            "epoch 38 | loss: 1392.77132| train_mse: 2159.61305| valid_mse: 2174.84894|  1:15:00s\n",
            "epoch 39 | loss: 1391.81795| train_mse: 1778.37673| valid_mse: 1782.57189|  1:16:55s\n",
            "epoch 40 | loss: 1392.26163| train_mse: 1462.92667| valid_mse: 1471.04556|  1:18:49s\n",
            "epoch 41 | loss: 1391.72234| train_mse: 1914.34916| valid_mse: 1910.74847|  1:20:43s\n",
            "\n",
            "Early stopping occurred at epoch 41 with best_epoch = 31 and best_valid_mse = 1397.66984\n",
            "Best weights from best epoch are automatically used!\n"
          ]
        }
      ]
    },
    {
      "cell_type": "code",
      "metadata": {
        "colab": {
          "base_uri": "https://localhost:8080/",
          "height": 410
        },
        "id": "suIyiYh9BTic",
        "outputId": "4cd5af78-6362-4989-e36e-9fdad560fbc1"
      },
      "source": [
        "plt.figure(figsize=[18, 6])\n",
        "plt.subplot(1, 2, 1)\n",
        "plt.plot(reg_1.history['loss'])\n",
        "plt.title('Loss')\n",
        "plt.grid()\n",
        "plt.subplot(1, 2, 2)\n",
        "plt.plot(reg_1.history['train_mse'])\n",
        "plt.plot(reg_1.history['valid_mse'])\n",
        "plt.title('MSE')\n",
        "plt.grid()\n",
        "plt.savefig(\"TabNet_performance.png\", dpi=100)\n",
        "plt.show()\n",
        "files.download(\"TabNet_performance.png\")"
      ],
      "execution_count": null,
      "outputs": [
        {
          "output_type": "display_data",
          "data": {
            "image/png": "[encoded data removed]",
            "text/plain": [
              "<Figure size 1296x432 with 2 Axes>"
            ]
          },
          "metadata": {
            "needs_background": "light"
          }
        },
        {
          "output_type": "display_data",
          "data": {
            "application/javascript": [
              "\n",
              "    async function download(id, filename, size) {\n",
              "      if (!google.colab.kernel.accessAllowed) {\n",
              "        return;\n",
              "      }\n",
              "      const div = document.createElement('div');\n",
              "      const label = document.createElement('label');\n",
              "      label.textContent = `Downloading \"${filename}\": `;\n",
              "      div.appendChild(label);\n",
              "      const progress = document.createElement('progress');\n",
              "      progress.max = size;\n",
              "      div.appendChild(progress);\n",
              "      document.body.appendChild(div);\n",
              "\n",
              "      const buffers = [];\n",
              "      let downloaded = 0;\n",
              "\n",
              "      const channel = await google.colab.kernel.comms.open(id);\n",
              "      // Send a message to notify the kernel that we're ready.\n",
              "      channel.send({})\n",
              "\n",
              "      for await (const message of channel.messages) {\n",
              "        // Send a message to notify the kernel that we're ready.\n",
              "        channel.send({})\n",
              "        if (message.buffers) {\n",
              "          for (const buffer of message.buffers) {\n",
              "            buffers.push(buffer);\n",
              "            downloaded += buffer.byteLength;\n",
              "            progress.value = downloaded;\n",
              "          }\n",
              "        }\n",
              "      }\n",
              "      const blob = new Blob(buffers, {type: 'application/binary'});\n",
              "      const a = document.createElement('a');\n",
              "      a.href = window.URL.createObjectURL(blob);\n",
              "      a.download = filename;\n",
              "      div.appendChild(a);\n",
              "      a.click();\n",
              "      div.remove();\n",
              "    }\n",
              "  "
            ],
            "text/plain": [
              "<IPython.core.display.Javascript object>"
            ]
          },
          "metadata": {}
        },
        {
          "output_type": "display_data",
          "data": {
            "application/javascript": [
              "download(\"download_7d2294fb-20ad-4c3d-9c10-65803b41b027\", \"TabNet_performance.png\", 70151)"
            ],
            "text/plain": [
              "<IPython.core.display.Javascript object>"
            ]
          },
          "metadata": {}
        }
      ]
    },
    {
      "cell_type": "code",
      "metadata": {
        "id": "t1VWVSV5smg_",
        "colab": {
          "base_uri": "https://localhost:8080/"
        },
        "outputId": "f14350d5-53f4-46e1-a8aa-299330196fff"
      },
      "source": [
        "preds = reg_1.predict(X_test)\n",
        "MSE = np.square(np.subtract(preds,y_test)).mean() \n",
        "\n",
        "print(f\"BEST VALID SCORE FOR {'ICFES_Saber_11'} : {reg_1.best_cost}\")\n",
        "print(f\"FINAL TEST SCORE FOR {'ICFES_Saber_11'} : {MSE}\")"
      ],
      "execution_count": null,
      "outputs": [
        {
          "output_type": "stream",
          "name": "stdout",
          "text": [
            "BEST VALID SCORE FOR ICFES_Saber_11 : 1397.6698414066454\n",
            "FINAL TEST SCORE FOR ICFES_Saber_11 : 1356.1957550500958\n"
          ]
        }
      ]
    },
    {
      "cell_type": "code",
      "metadata": {
        "id": "CbvRiuQV8jgj",
        "colab": {
          "base_uri": "https://localhost:8080/",
          "height": 393
        },
        "outputId": "9dcdbd36-427f-4cb1-ba49-e4d884bc0ac9"
      },
      "source": [
        "from google.colab import files\n",
        "feat_importances = reg_1.feature_importances_\n",
        "indices = np.argsort(feat_importances)\n",
        "# plot\n",
        "fig, ax = plt.subplots(figsize=(15, 6))\n",
        "plt.title(\"Top 25 feature importances\")\n",
        "plt.barh(range(len(feat_importances)), feat_importances[indices],color=\"b\", align=\"center\")\n",
        "plt.yticks(range(len(feat_importances)), [features[idx] for idx in indices])\n",
        "# all features\n",
        "plt.ylim([-1, len(feat_importances)])\n",
        "# Top 25 features\n",
        "plt.ylim([len(feat_importances)-25, len(feat_importances)])\n",
        "plt.savefig(\"Feat_importance_general.png\", dpi=100)\n",
        "plt.show()\n",
        "files.download(\"Feat_importance_general.png\")"
      ],
      "execution_count": null,
      "outputs": [
        {
          "output_type": "display_data",
          "data": {
            "image/png": "[encoded data removed]",
            "text/plain": [
              "<Figure size 1080x432 with 1 Axes>"
            ]
          },
          "metadata": {
            "needs_background": "light"
          }
        },
        {
          "output_type": "display_data",
          "data": {
            "application/javascript": [
              "\n",
              "    async function download(id, filename, size) {\n",
              "      if (!google.colab.kernel.accessAllowed) {\n",
              "        return;\n",
              "      }\n",
              "      const div = document.createElement('div');\n",
              "      const label = document.createElement('label');\n",
              "      label.textContent = `Downloading \"${filename}\": `;\n",
              "      div.appendChild(label);\n",
              "      const progress = document.createElement('progress');\n",
              "      progress.max = size;\n",
              "      div.appendChild(progress);\n",
              "      document.body.appendChild(div);\n",
              "\n",
              "      const buffers = [];\n",
              "      let downloaded = 0;\n",
              "\n",
              "      const channel = await google.colab.kernel.comms.open(id);\n",
              "      // Send a message to notify the kernel that we're ready.\n",
              "      channel.send({})\n",
              "\n",
              "      for await (const message of channel.messages) {\n",
              "        // Send a message to notify the kernel that we're ready.\n",
              "        channel.send({})\n",
              "        if (message.buffers) {\n",
              "          for (const buffer of message.buffers) {\n",
              "            buffers.push(buffer);\n",
              "            downloaded += buffer.byteLength;\n",
              "            progress.value = downloaded;\n",
              "          }\n",
              "        }\n",
              "      }\n",
              "      const blob = new Blob(buffers, {type: 'application/binary'});\n",
              "      const a = document.createElement('a');\n",
              "      a.href = window.URL.createObjectURL(blob);\n",
              "      a.download = filename;\n",
              "      div.appendChild(a);\n",
              "      a.click();\n",
              "      div.remove();\n",
              "    }\n",
              "  "
            ],
            "text/plain": [
              "<IPython.core.display.Javascript object>"
            ]
          },
          "metadata": {}
        },
        {
          "output_type": "display_data",
          "data": {
            "application/javascript": [
              "download(\"download_97d9657a-c8cf-4f39-a75e-aa4eac6e649c\", \"Feat_importance_general.png\", 69770)"
            ],
            "text/plain": [
              "<IPython.core.display.Javascript object>"
            ]
          },
          "metadata": {}
        }
      ]
    }
  ]
}