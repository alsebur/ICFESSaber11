{
  "nbformat": 4,
  "nbformat_minor": 0,
  "metadata": {
    "accelerator": "GPU",
    "colab": {
      "name": "Feature Importance_stu_vars.ipynb",
      "provenance": [],
      "collapsed_sections": [],
      "machine_shape": "hm"
    },
    "kernelspec": {
      "display_name": "Python 3",
      "name": "python3"
    },
    "language_info": {
      "name": "python"
    }
  },
  "cells": [
    {
      "cell_type": "code",
      "metadata": {
        "colab": {
          "base_uri": "https://localhost:8080/"
        },
        "id": "vnZrIXQK2jr4",
        "outputId": "9d3ad24a-c9b5-4cd4-e82f-4cdb74455ba3"
      },
      "source": [
        "!pip install tensorflow_addons\n",
        "!pip install pytorch-tabnet\n",
        "import pandas as pd\n",
        "import numpy as np\n",
        "from scipy import stats\n",
        "from sklearn.model_selection import train_test_split\n",
        "import torch\n",
        "import tensorflow as tf\n",
        "from tensorflow import keras\n",
        "from typing import Optional, Union, Tuple\n",
        "from pytorch_tabnet.tab_model import TabNetRegressor\n",
        "import tensorflow_probability as tfp\n",
        "import tensorflow_addons as tfa\n",
        "import tensorflow.python\n",
        "from sklearn.preprocessing import LabelEncoder\n",
        "from sklearn.metrics import mean_squared_error\n",
        "from tensorflow.keras import layers\n",
        "from keras.callbacks import EarlyStopping\n",
        "import matplotlib.pyplot as plt\n",
        "import seaborn as sns\n",
        "from sklearn.preprocessing import OneHotEncoder\n",
        "from sklearn.compose import ColumnTransformer\n",
        "import sklearn \n",
        "import sklearn.linear_model \n",
        "import matplotlib \n",
        "from keras.models import Sequential\n",
        "from keras.layers import Dense\n",
        "from keras import backend as K\n",
        "sns.set(rc={'figure.figsize':(11.7,8.27)})\n",
        "\n",
        "from tensorflow.python.client import device_lib\n",
        "print(device_lib.list_local_devices())"
      ],
      "execution_count": null,
      "outputs": [
        {
          "output_type": "stream",
          "name": "stdout",
          "text": [
            "Collecting tensorflow_addons\n",
            "  Downloading tensorflow_addons-0.15.0-cp37-cp37m-manylinux_2_12_x86_64.manylinux2010_x86_64.whl (1.1 MB)\n",
            "\u001b[K     |████████████████████████████████| 1.1 MB 5.1 MB/s \n",
            "\u001b[?25hRequirement already satisfied: typeguard>=2.7 in /usr/local/lib/python3.7/dist-packages (from tensorflow_addons) (2.7.1)\n",
            "Installing collected packages: tensorflow-addons\n",
            "Successfully installed tensorflow-addons-0.15.0\n",
            "Collecting pytorch-tabnet\n",
            "  Downloading pytorch_tabnet-3.1.1-py3-none-any.whl (39 kB)\n",
            "Requirement already satisfied: torch<2.0,>=1.2 in /usr/local/lib/python3.7/dist-packages (from pytorch-tabnet) (1.10.0+cu111)\n",
            "Requirement already satisfied: numpy<2.0,>=1.17 in /usr/local/lib/python3.7/dist-packages (from pytorch-tabnet) (1.19.5)\n",
            "Requirement already satisfied: scikit_learn>0.21 in /usr/local/lib/python3.7/dist-packages (from pytorch-tabnet) (1.0.1)\n",
            "Requirement already satisfied: tqdm<5.0,>=4.36 in /usr/local/lib/python3.7/dist-packages (from pytorch-tabnet) (4.62.3)\n",
            "Requirement already satisfied: scipy>1.4 in /usr/local/lib/python3.7/dist-packages (from pytorch-tabnet) (1.4.1)\n",
            "Requirement already satisfied: threadpoolctl>=2.0.0 in /usr/local/lib/python3.7/dist-packages (from scikit_learn>0.21->pytorch-tabnet) (3.0.0)\n",
            "Requirement already satisfied: joblib>=0.11 in /usr/local/lib/python3.7/dist-packages (from scikit_learn>0.21->pytorch-tabnet) (1.1.0)\n",
            "Requirement already satisfied: typing-extensions in /usr/local/lib/python3.7/dist-packages (from torch<2.0,>=1.2->pytorch-tabnet) (3.10.0.2)\n",
            "Installing collected packages: pytorch-tabnet\n",
            "Successfully installed pytorch-tabnet-3.1.1\n",
            "[name: \"/device:CPU:0\"\n",
            "device_type: \"CPU\"\n",
            "memory_limit: 268435456\n",
            "locality {\n",
            "}\n",
            "incarnation: 6250707372271560124\n",
            "xla_global_id: -1\n",
            ", name: \"/device:GPU:0\"\n",
            "device_type: \"GPU\"\n",
            "memory_limit: 15371862016\n",
            "locality {\n",
            "  bus_id: 1\n",
            "  links {\n",
            "  }\n",
            "}\n",
            "incarnation: 5229422295698017743\n",
            "physical_device_desc: \"device: 0, name: Tesla P100-PCIE-16GB, pci bus id: 0000:00:04.0, compute capability: 6.0\"\n",
            "xla_global_id: 416903419\n",
            "]\n"
          ]
        }
      ]
    },
    {
      "cell_type": "code",
      "metadata": {
        "colab": {
          "base_uri": "https://localhost:8080/"
        },
        "id": "atojoLAx3qEI",
        "outputId": "b41565cb-a2c3-46f4-e582-0ae69e2956ab"
      },
      "source": [
        "#mount drive\n",
        "from google.colab import drive\n",
        "from google.colab import files\n",
        "drive.mount(\"/content/drive/\")\n",
        "#read file\n",
        "df = pd.read_csv('/content/drive/MyDrive/Thesis/df_cleaned.csv',sep=\",\",header=0,index_col=False)\n",
        "\n"
      ],
      "execution_count": null,
      "outputs": [
        {
          "output_type": "stream",
          "name": "stdout",
          "text": [
            "Mounted at /content/drive/\n"
          ]
        }
      ]
    },
    {
      "cell_type": "code",
      "metadata": {
        "colab": {
          "base_uri": "https://localhost:8080/"
        },
        "id": "caH17yY7qWFP",
        "outputId": "1481ca59-b339-4673-f536-881761830aee"
      },
      "source": [
        "df.columns"
      ],
      "execution_count": null,
      "outputs": [
        {
          "output_type": "execute_result",
          "data": {
            "text/plain": [
              "Index(['st_nationality', 'st_gender', 'st_state', 'st_resi_country',\n",
              "       'st_is_ethnic', 'st_ethnicity', 'st_resi_dept', 'fam_home_strat',\n",
              "       'fam_inh_home', 'fam_home_rooms', 'fam_edu_father', 'fam_edu_mother',\n",
              "       'fam_work_father', 'fam_work_mother', 'fam_has_internet',\n",
              "       'fam_has_tv_serv', 'fam_has_pc', 'fam_has_wm', 'fam_has_cooker',\n",
              "       'fam_has_car', 'fam_has_mbike', 'fam_has_vgames', 'fam_num_books',\n",
              "       'fam_eat_dairy', 'fam_eat_meat', 'fam_eat_vegfruitcereal',\n",
              "       'fam_econ_state', 'stu_daily_reading', 'stu_daily_internet',\n",
              "       'stu_wkly_wrk_hr', 'stu_comp_type', 'sch_gender', 'sch_nature',\n",
              "       'sch_calen', 'sch_bilingual', 'sch_type', 'sch_loc_type',\n",
              "       'sch_day_time', 'st_is_conv', 'st_dept_pr', 'st_inv_stat',\n",
              "       'total_score', 'st_socioecon_index', 'sch_socioecon_level', 'age'],\n",
              "      dtype='object')"
            ]
          },
          "metadata": {},
          "execution_count": 4
        }
      ]
    },
    {
      "cell_type": "code",
      "metadata": {
        "id": "vfBdS23A5sf6"
      },
      "source": [
        "st_vars = ['st_nationality', 'st_gender', 'st_state', 'st_resi_country', 'st_is_ethnic', 'st_ethnicity','stu_daily_reading', 'stu_daily_internet', \\\n",
        "           'st_resi_dept','st_dept_pr','stu_wkly_wrk_hr', 'stu_comp_type','st_inv_stat','st_is_conv','st_socioecon_index','age','total_score']\n",
        "fam_vars = ['fam_inh_home', 'fam_home_rooms', 'fam_edu_father', 'fam_edu_mother',\\\n",
        "       'fam_work_father', 'fam_work_mother', 'fam_has_internet',\\\n",
        "       'fam_has_tv_serv', 'fam_has_pc', 'fam_has_wm', 'fam_has_cooker',\\\n",
        "       'fam_has_car', 'fam_has_mbike', 'fam_has_vgames', 'fam_num_books',\\\n",
        "       'fam_eat_dairy', 'fam_eat_meat', 'fam_eat_vegfruitcereal',\\\n",
        "       'fam_econ_state', 'fam_home_strat','total_score']\n",
        "sch_vars = ['sch_gender', 'sch_nature', 'sch_calen', 'sch_bilingual', 'sch_type', 'sch_loc_type',\\\n",
        "            'sch_day_time', 'sch_socioecon_level','total_score']"
      ],
      "execution_count": null,
      "outputs": []
    },
    {
      "cell_type": "code",
      "metadata": {
        "colab": {
          "base_uri": "https://localhost:8080/"
        },
        "id": "7GQOoQArjck7",
        "outputId": "099fa2ad-d45c-41ab-813d-cf1c25999b7a"
      },
      "source": [
        "len(st_vars) + len(fam_vars) + len(sch_vars)"
      ],
      "execution_count": null,
      "outputs": [
        {
          "output_type": "execute_result",
          "data": {
            "text/plain": [
              "47"
            ]
          },
          "metadata": {},
          "execution_count": 6
        }
      ]
    },
    {
      "cell_type": "code",
      "metadata": {
        "id": "k6gg1eDEqPjg"
      },
      "source": [
        "df=df[st_vars]"
      ],
      "execution_count": null,
      "outputs": []
    },
    {
      "cell_type": "code",
      "metadata": {
        "id": "qdUOD2o54ErH"
      },
      "source": [
        "#train-valid-test\n",
        "train = df\n",
        "target = 'total_score'\n",
        "if \"Set\" not in train.columns:\n",
        "    train[\"Set\"] = np.random.choice([\"train\", \"valid\", \"test\"], p =[.98, .01, .01], size=(train.shape[0],))\n",
        "\n",
        "train_indices = train[train.Set==\"train\"].index\n",
        "valid_indices = train[train.Set==\"valid\"].index\n",
        "test_indices = train[train.Set==\"test\"].index"
      ],
      "execution_count": null,
      "outputs": []
    },
    {
      "cell_type": "code",
      "metadata": {
        "id": "GYhp9y4Z416I",
        "colab": {
          "base_uri": "https://localhost:8080/"
        },
        "outputId": "1f898140-f37d-410c-9dfd-a2731a6fde88"
      },
      "source": [
        "categorical_columns = []\n",
        "categorical_dims =  {}\n",
        "for col in train.columns[train.dtypes == object]:\n",
        "    print(col, train[col].nunique())\n",
        "    l_enc = LabelEncoder()\n",
        "    train[col] = train[col].fillna(\"VV_likely\")\n",
        "    train[col] = l_enc.fit_transform(train[col].values)\n",
        "    categorical_columns.append(col)\n",
        "    categorical_dims[col] = len(l_enc.classes_)\n",
        "\n",
        "for col in train.columns[train.dtypes == 'float64']:\n",
        "    train.fillna(train.loc[train_indices, col].mean(), inplace=True)"
      ],
      "execution_count": null,
      "outputs": [
        {
          "output_type": "stream",
          "name": "stdout",
          "text": [
            "st_nationality 49\n",
            "st_gender 2\n",
            "st_state 1\n",
            "st_resi_country 49\n",
            "st_ethnicity 20\n",
            "stu_daily_reading 5\n",
            "stu_daily_internet 5\n",
            "st_resi_dept 35\n",
            "st_dept_pr 34\n",
            "stu_wkly_wrk_hr 5\n",
            "stu_comp_type 4\n",
            "st_inv_stat 4\n",
            "Set 3\n"
          ]
        }
      ]
    },
    {
      "cell_type": "code",
      "metadata": {
        "id": "nKFBl-A66QYQ"
      },
      "source": [
        "unused_feat = ['Set']\n",
        "\n",
        "features = [ col for col in train.columns if col not in unused_feat+[target]] \n",
        "\n",
        "categ_ind = [ i for i, f in enumerate(features) if f in categorical_columns]\n",
        "\n",
        "cat_dims = [ categorical_dims[f] for i, f in enumerate(features) if f in categorical_columns]\n"
      ],
      "execution_count": null,
      "outputs": []
    },
    {
      "cell_type": "code",
      "metadata": {
        "id": "ZDmFv1x9D7sn"
      },
      "source": [
        "X_train = train.loc[train_indices,features].values\n",
        "y_train = train.loc[train_indices,target].values.reshape(-1, 1)\n",
        "\n",
        "X_valid = train.loc[valid_indices,features].values\n",
        "y_valid = train.loc[valid_indices,target].values.reshape(-1, 1)\n",
        "\n",
        "X_test = train.loc[test_indices,features].values\n",
        "y_test = train.loc[test_indices,target].values.reshape(-1, 1)"
      ],
      "execution_count": null,
      "outputs": []
    },
    {
      "cell_type": "code",
      "metadata": {
        "id": "aBNhoF7YK2zk",
        "colab": {
          "base_uri": "https://localhost:8080/"
        },
        "outputId": "466f7c3a-81c7-4405-8ae3-e7699425d5dc"
      },
      "source": [
        "from torch.optim import Adam\n",
        "from torch.optim.lr_scheduler import ReduceLROnPlateau, CosineAnnealingWarmRestarts\n",
        "tabnet_params = dict(\n",
        "   \n",
        "    n_d = 16,\n",
        "    n_a = 16,\n",
        "    n_steps = 9,\n",
        "    gamma = 1.2,\n",
        "    n_independent = 2,\n",
        "    n_shared = 2,\n",
        "    lambda_sparse = 0.00001,\n",
        "    cat_idxs= categ_ind,\n",
        "    cat_dims = cat_dims,\n",
        "    optimizer_fn = Adam,\n",
        "    optimizer_params = dict(lr = (2e-2)),\n",
        "    mask_type = \"sparsemax\",\n",
        "    scheduler_params = dict(T_0=200, T_mult=1, eta_min=1e-4, last_epoch=-1, verbose=False),\n",
        "    seed = 42,\n",
        "    verbose = 1,\n",
        "    cat_emb_dim=1   \n",
        ")\n",
        "reg_1 = TabNetRegressor(**tabnet_params)"
      ],
      "execution_count": null,
      "outputs": [
        {
          "output_type": "stream",
          "name": "stdout",
          "text": [
            "Device used : cuda\n"
          ]
        }
      ]
    },
    {
      "cell_type": "code",
      "metadata": {
        "colab": {
          "base_uri": "https://localhost:8080/"
        },
        "id": "DHHvbv5gVk3n",
        "outputId": "f339b926-d6e9-4ea2-a7fe-dc51459b1b74"
      },
      "source": [
        "reg_1.fit(\n",
        "    X_train=X_train, y_train=y_train,\n",
        "    eval_set=[(X_train, y_train), (X_valid, y_valid)],\n",
        "    eval_name=['train', 'valid'],\n",
        "    eval_metric=['mse'],\n",
        "    max_epochs=200,\n",
        "    patience=10,\n",
        "    batch_size=\t8192, virtual_batch_size=128,\n",
        "    num_workers=2,\n",
        "    drop_last=False\n",
        ")"
      ],
      "execution_count": null,
      "outputs": [
        {
          "output_type": "stream",
          "name": "stdout",
          "text": [
            "epoch 0  | loss: 14748.81775| train_mse: 2750.71547| valid_mse: 2715.68109|  0:01:44s\n",
            "epoch 1  | loss: 1920.2935| train_mse: 2014.96051| valid_mse: 2012.05598|  0:03:30s\n",
            "epoch 2  | loss: 1872.64214| train_mse: 1852.70078| valid_mse: 1850.0021|  0:05:17s\n",
            "epoch 3  | loss: 1840.32858| train_mse: 1850.56381| valid_mse: 1848.73744|  0:07:03s\n",
            "epoch 4  | loss: 1823.92667| train_mse: 1795.71112| valid_mse: 1795.40869|  0:08:50s\n",
            "epoch 5  | loss: 1806.5144| train_mse: 1792.10854| valid_mse: 1787.31239|  0:10:37s\n",
            "epoch 6  | loss: 1779.52002| train_mse: 1761.28157| valid_mse: 1755.08579|  0:12:23s\n",
            "epoch 7  | loss: 1770.89877| train_mse: 3439.42327| valid_mse: 3408.17119|  0:14:08s\n",
            "epoch 8  | loss: 1765.59821| train_mse: 2353.13564| valid_mse: 2356.51067|  0:15:53s\n",
            "epoch 9  | loss: 1759.21241| train_mse: 1940.14896| valid_mse: 1938.59727|  0:17:37s\n",
            "epoch 10 | loss: 1758.40845| train_mse: 5312.47804| valid_mse: 5286.22226|  0:19:21s\n",
            "epoch 11 | loss: 1752.42492| train_mse: 60062.25486| valid_mse: 59851.87727|  0:21:06s\n",
            "epoch 12 | loss: 1753.91078| train_mse: 2453.97766| valid_mse: 2444.98134|  0:22:52s\n",
            "epoch 13 | loss: 1750.16069| train_mse: 2208.12927| valid_mse: 2193.10607|  0:24:38s\n",
            "epoch 14 | loss: 1748.81924| train_mse: 3896.32114| valid_mse: 3855.2546|  0:26:24s\n",
            "epoch 15 | loss: 1747.18961| train_mse: 1745.62071| valid_mse: 1732.61094|  0:28:11s\n",
            "epoch 16 | loss: 1744.43394| train_mse: 1998.69966| valid_mse: 1985.51975|  0:29:56s\n",
            "epoch 17 | loss: 1745.10368| train_mse: 6077.22537| valid_mse: 6001.73375|  0:31:41s\n",
            "epoch 18 | loss: 1744.2198| train_mse: 12151.51196| valid_mse: 12084.31041|  0:33:26s\n",
            "epoch 19 | loss: 1744.39328| train_mse: 7215.70369| valid_mse: 7137.35103|  0:35:12s\n",
            "epoch 20 | loss: 1746.97735| train_mse: 9204.32977| valid_mse: 9144.85425|  0:36:57s\n",
            "epoch 21 | loss: 1743.42253| train_mse: 1792.02621| valid_mse: 1775.5974|  0:38:42s\n",
            "epoch 22 | loss: 1743.44348| train_mse: 2805.78249| valid_mse: 2787.78162|  0:40:27s\n",
            "epoch 23 | loss: 1744.15956| train_mse: 1737.59804| valid_mse: 1730.48401|  0:42:13s\n",
            "epoch 24 | loss: 1744.03051| train_mse: 2841.85111| valid_mse: 2806.37652|  0:44:00s\n",
            "epoch 25 | loss: 1744.54522| train_mse: 1858.70613| valid_mse: 1855.4759|  0:45:46s\n",
            "epoch 26 | loss: 1741.46114| train_mse: 2988.7424| valid_mse: 2948.61323|  0:47:31s\n",
            "epoch 27 | loss: 1740.23077| train_mse: 1733.95679| valid_mse: 1732.56524|  0:49:17s\n",
            "epoch 28 | loss: 1741.78944| train_mse: 1821.12302| valid_mse: 1806.23553|  0:51:02s\n",
            "epoch 29 | loss: 1739.87222| train_mse: 4085.51896| valid_mse: 4043.73491|  0:52:47s\n",
            "epoch 30 | loss: 1742.54883| train_mse: 6631.04746| valid_mse: 6551.84937|  0:54:32s\n",
            "epoch 31 | loss: 1744.14399| train_mse: 1755.55236| valid_mse: 1750.93663|  0:56:17s\n",
            "epoch 32 | loss: 1743.5505| train_mse: 7024.51113| valid_mse: 6946.65801|  0:58:03s\n",
            "epoch 33 | loss: 1738.52308| train_mse: 1942.77938| valid_mse: 1940.42498|  0:59:48s\n",
            "\n",
            "Early stopping occurred at epoch 33 with best_epoch = 23 and best_valid_mse = 1730.48401\n",
            "Best weights from best epoch are automatically used!\n"
          ]
        }
      ]
    },
    {
      "cell_type": "code",
      "metadata": {
        "colab": {
          "base_uri": "https://localhost:8080/",
          "height": 393
        },
        "id": "suIyiYh9BTic",
        "outputId": "5ba03fee-1001-45a5-a3de-4146ee426de4"
      },
      "source": [
        "plt.figure(figsize=[18, 6])\n",
        "plt.subplot(1, 2, 1)\n",
        "plt.plot(reg_1.history['loss'])\n",
        "plt.title('Loss')\n",
        "plt.grid()\n",
        "plt.subplot(1, 2, 2)\n",
        "plt.plot(reg_1.history['train_mse'])\n",
        "plt.plot(reg_1.history['valid_mse'])\n",
        "plt.title('MSE')\n",
        "plt.grid()\n",
        "plt.savefig(\"personal_vars_performance.png\", dpi=100)\n",
        "plt.show()\n",
        "files.download(\"personal_vars_performance.png\")"
      ],
      "execution_count": null,
      "outputs": [
        {
          "output_type": "display_data",
          "data": {
            "image/png": "[encoded data removed]",
            "text/plain": [
              "<Figure size 1296x432 with 2 Axes>"
            ]
          },
          "metadata": {}
        },
        {
          "output_type": "display_data",
          "data": {
            "application/javascript": [
              "\n",
              "    async function download(id, filename, size) {\n",
              "      if (!google.colab.kernel.accessAllowed) {\n",
              "        return;\n",
              "      }\n",
              "      const div = document.createElement('div');\n",
              "      const label = document.createElement('label');\n",
              "      label.textContent = `Downloading \"${filename}\": `;\n",
              "      div.appendChild(label);\n",
              "      const progress = document.createElement('progress');\n",
              "      progress.max = size;\n",
              "      div.appendChild(progress);\n",
              "      document.body.appendChild(div);\n",
              "\n",
              "      const buffers = [];\n",
              "      let downloaded = 0;\n",
              "\n",
              "      const channel = await google.colab.kernel.comms.open(id);\n",
              "      // Send a message to notify the kernel that we're ready.\n",
              "      channel.send({})\n",
              "\n",
              "      for await (const message of channel.messages) {\n",
              "        // Send a message to notify the kernel that we're ready.\n",
              "        channel.send({})\n",
              "        if (message.buffers) {\n",
              "          for (const buffer of message.buffers) {\n",
              "            buffers.push(buffer);\n",
              "            downloaded += buffer.byteLength;\n",
              "            progress.value = downloaded;\n",
              "          }\n",
              "        }\n",
              "      }\n",
              "      const blob = new Blob(buffers, {type: 'application/binary'});\n",
              "      const a = document.createElement('a');\n",
              "      a.href = window.URL.createObjectURL(blob);\n",
              "      a.download = filename;\n",
              "      div.appendChild(a);\n",
              "      a.click();\n",
              "      div.remove();\n",
              "    }\n",
              "  "
            ],
            "text/plain": [
              "<IPython.core.display.Javascript object>"
            ]
          },
          "metadata": {}
        },
        {
          "output_type": "display_data",
          "data": {
            "application/javascript": [
              "download(\"download_48e8b8ea-1d8d-4e8f-86ba-c3bb44883f8b\", \"personal_vars_performance.png\", 48945)"
            ],
            "text/plain": [
              "<IPython.core.display.Javascript object>"
            ]
          },
          "metadata": {}
        }
      ]
    },
    {
      "cell_type": "code",
      "metadata": {
        "id": "t1VWVSV5smg_",
        "colab": {
          "base_uri": "https://localhost:8080/"
        },
        "outputId": "9c0b8f92-0a7d-4dc5-b388-b012c6c965f3"
      },
      "source": [
        "preds = reg_1.predict(X_test)\n",
        "MSE = np.square(np.subtract(preds,y_test)).mean() \n",
        "\n",
        "print(f\"BEST VALID SCORE FOR {'ICFES_Saber_11'} : {reg_1.best_cost}\")\n",
        "print(f\"FINAL TEST SCORE FOR {'ICFES_Saber_11'} : {MSE}\")"
      ],
      "execution_count": null,
      "outputs": [
        {
          "output_type": "stream",
          "name": "stdout",
          "text": [
            "BEST VALID SCORE FOR ICFES_Saber_11 : 1730.4840111707583\n",
            "FINAL TEST SCORE FOR ICFES_Saber_11 : 1769.7289017056987\n"
          ]
        }
      ]
    },
    {
      "cell_type": "code",
      "metadata": {
        "id": "oOZDpj6At36_",
        "colab": {
          "base_uri": "https://localhost:8080/",
          "height": 395
        },
        "outputId": "893f0d41-1869-4e7e-e12f-6f638e078478"
      },
      "source": [
        "explain_matrix, masks = reg_1.explain(X_test)\n",
        "\n",
        "fig, axs = plt.subplots(1, 9, figsize=(20,8))\n",
        "for i in range(9):\n",
        "    axs[i].imshow(masks[i][:50])\n",
        "    axs[i].set_title(f\"mask {i}\")\n",
        "plt.savefig(\"importance masks_stu_vars.png\", dpi=100)\n",
        "plt.show()\n",
        "files.download(\"importance masks_stu_vars.png\")"
      ],
      "execution_count": null,
      "outputs": [
        {
          "output_type": "display_data",
          "data": {
            "image/png": "[encoded data removed]",
            "text/plain": [
              "<Figure size 1440x576 with 9 Axes>"
            ]
          },
          "metadata": {}
        },
        {
          "output_type": "display_data",
          "data": {
            "application/javascript": [
              "\n",
              "    async function download(id, filename, size) {\n",
              "      if (!google.colab.kernel.accessAllowed) {\n",
              "        return;\n",
              "      }\n",
              "      const div = document.createElement('div');\n",
              "      const label = document.createElement('label');\n",
              "      label.textContent = `Downloading \"${filename}\": `;\n",
              "      div.appendChild(label);\n",
              "      const progress = document.createElement('progress');\n",
              "      progress.max = size;\n",
              "      div.appendChild(progress);\n",
              "      document.body.appendChild(div);\n",
              "\n",
              "      const buffers = [];\n",
              "      let downloaded = 0;\n",
              "\n",
              "      const channel = await google.colab.kernel.comms.open(id);\n",
              "      // Send a message to notify the kernel that we're ready.\n",
              "      channel.send({})\n",
              "\n",
              "      for await (const message of channel.messages) {\n",
              "        // Send a message to notify the kernel that we're ready.\n",
              "        channel.send({})\n",
              "        if (message.buffers) {\n",
              "          for (const buffer of message.buffers) {\n",
              "            buffers.push(buffer);\n",
              "            downloaded += buffer.byteLength;\n",
              "            progress.value = downloaded;\n",
              "          }\n",
              "        }\n",
              "      }\n",
              "      const blob = new Blob(buffers, {type: 'application/binary'});\n",
              "      const a = document.createElement('a');\n",
              "      a.href = window.URL.createObjectURL(blob);\n",
              "      a.download = filename;\n",
              "      div.appendChild(a);\n",
              "      a.click();\n",
              "      div.remove();\n",
              "    }\n",
              "  "
            ],
            "text/plain": [
              "<IPython.core.display.Javascript object>"
            ]
          },
          "metadata": {}
        },
        {
          "output_type": "display_data",
          "data": {
            "application/javascript": [
              "download(\"download_e5e2b9b9-9274-4450-9a9d-da93f9813a6b\", \"importance masks_stu_vars.png\", 27204)"
            ],
            "text/plain": [
              "<IPython.core.display.Javascript object>"
            ]
          },
          "metadata": {}
        }
      ]
    },
    {
      "cell_type": "code",
      "metadata": {
        "id": "CbvRiuQV8jgj",
        "colab": {
          "base_uri": "https://localhost:8080/",
          "height": 393
        },
        "outputId": "d539d38e-ba29-4147-ea8f-13d8867bc400"
      },
      "source": [
        "from google.colab import files\n",
        "feat_importances = reg_1.feature_importances_\n",
        "indices = np.argsort(feat_importances)\n",
        "# plot\n",
        "fig, ax = plt.subplots(figsize=(15, 6))\n",
        "plt.title(\"Ranking of student feature importances\")\n",
        "plt.barh(range(len(feat_importances)), feat_importances[indices],color=\"b\", align=\"center\")\n",
        "#features = ['feature_{}'.format(i) for i in range(0, 15)]\n",
        "plt.yticks(range(len(feat_importances)), [features[idx] for idx in indices])\n",
        "# all features\n",
        "plt.ylim([-1, len(feat_importances)])\n",
        "# Top 25 features\n",
        "plt.ylim([len(feat_importances)-15, len(feat_importances)])\n",
        "plt.savefig(\"Feat_importance_stu_vars.png\", dpi=100)\n",
        "plt.show()\n",
        "files.download(\"Feat_importance_stu_vars.png\")"
      ],
      "execution_count": null,
      "outputs": [
        {
          "output_type": "display_data",
          "data": {
            "image/png": "[encoded data removed]",
            "text/plain": [
              "<Figure size 1080x432 with 1 Axes>"
            ]
          },
          "metadata": {}
        },
        {
          "output_type": "display_data",
          "data": {
            "application/javascript": [
              "\n",
              "    async function download(id, filename, size) {\n",
              "      if (!google.colab.kernel.accessAllowed) {\n",
              "        return;\n",
              "      }\n",
              "      const div = document.createElement('div');\n",
              "      const label = document.createElement('label');\n",
              "      label.textContent = `Downloading \"${filename}\": `;\n",
              "      div.appendChild(label);\n",
              "      const progress = document.createElement('progress');\n",
              "      progress.max = size;\n",
              "      div.appendChild(progress);\n",
              "      document.body.appendChild(div);\n",
              "\n",
              "      const buffers = [];\n",
              "      let downloaded = 0;\n",
              "\n",
              "      const channel = await google.colab.kernel.comms.open(id);\n",
              "      // Send a message to notify the kernel that we're ready.\n",
              "      channel.send({})\n",
              "\n",
              "      for await (const message of channel.messages) {\n",
              "        // Send a message to notify the kernel that we're ready.\n",
              "        channel.send({})\n",
              "        if (message.buffers) {\n",
              "          for (const buffer of message.buffers) {\n",
              "            buffers.push(buffer);\n",
              "            downloaded += buffer.byteLength;\n",
              "            progress.value = downloaded;\n",
              "          }\n",
              "        }\n",
              "      }\n",
              "      const blob = new Blob(buffers, {type: 'application/binary'});\n",
              "      const a = document.createElement('a');\n",
              "      a.href = window.URL.createObjectURL(blob);\n",
              "      a.download = filename;\n",
              "      div.appendChild(a);\n",
              "      a.click();\n",
              "      div.remove();\n",
              "    }\n",
              "  "
            ],
            "text/plain": [
              "<IPython.core.display.Javascript object>"
            ]
          },
          "metadata": {}
        },
        {
          "output_type": "display_data",
          "data": {
            "application/javascript": [
              "download(\"download_4d1671c0-3b59-49d7-a07c-bf754e7c649a\", \"Feat_importance_stu_vars.png\", 45765)"
            ],
            "text/plain": [
              "<IPython.core.display.Javascript object>"
            ]
          },
          "metadata": {}
        }
      ]
    }
  ]
}