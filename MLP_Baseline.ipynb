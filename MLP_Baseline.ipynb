{
  "nbformat": 4,
  "nbformat_minor": 0,
  "metadata": {
    "accelerator": "GPU",
    "colab": {
      "name": "MLP Baseline.ipynb",
      "provenance": [],
      "machine_shape": "hm"
    },
    "kernelspec": {
      "display_name": "Python 3",
      "name": "python3"
    },
    "language_info": {
      "name": "python"
    }
  },
  "cells": [
    {
      "cell_type": "code",
      "metadata": {
        "id": "2S9HNkBxUm6q"
      },
      "source": [
        "#import libraries\n",
        "import pandas as pd\n",
        "from pandas_profiling import ProfileReport\n",
        "import numpy as np\n",
        "from scipy import stats\n",
        "from sklearn.model_selection import train_test_split\n",
        "\n",
        "import torch\n",
        "import tensorflow as tf\n",
        "from tensorflow import keras\n",
        "from tensorflow.keras import layers\n",
        "from keras.callbacks import EarlyStopping\n",
        "import matplotlib.pyplot as plt\n",
        "import seaborn as sns\n",
        "from sklearn.preprocessing import OneHotEncoder\n",
        "from sklearn.compose import ColumnTransformer\n",
        "import sklearn \n",
        "import sklearn.linear_model \n",
        "import matplotlib \n",
        "from keras.models import Sequential\n",
        "from keras.layers import Dense\n",
        "from keras import backend as K\n",
        "sns.set(rc={'figure.figsize':(11.7,8.27)})"
      ],
      "execution_count": null,
      "outputs": []
    },
    {
      "cell_type": "code",
      "metadata": {
        "colab": {
          "base_uri": "https://localhost:8080/"
        },
        "id": "pQFd-hXkUCQ0",
        "outputId": "3b26599b-7e41-470e-abcc-830ec4cc0035"
      },
      "source": [
        "from google.colab import drive\n",
        "from google.colab import files\n",
        "drive.mount(\"/content/drive/\")\n",
        "\n"
      ],
      "execution_count": null,
      "outputs": [
        {
          "output_type": "stream",
          "name": "stdout",
          "text": [
            "Mounted at /content/drive/\n"
          ]
        }
      ]
    },
    {
      "cell_type": "code",
      "metadata": {
        "id": "wB7DrRHCVIt1"
      },
      "source": [
        "#read file\n",
        "df = pd.read_csv('/content/drive/MyDrive/Thesis/df_cleaned.csv',sep=\",\",header=0,index_col=False)"
      ],
      "execution_count": null,
      "outputs": []
    },
    {
      "cell_type": "code",
      "metadata": {
        "id": "blY-WRubVfcg"
      },
      "source": [
        "X = df.drop('total_score',1)\n",
        "y = df['total_score'].to_numpy()"
      ],
      "execution_count": null,
      "outputs": []
    },
    {
      "cell_type": "code",
      "metadata": {
        "id": "wBCAAGjVVTah"
      },
      "source": [
        "#One hot encode all categorical values\n",
        "s = (X.dtypes == 'object')\n",
        "object_cols = list(s[s].index)\n",
        "columnTransformer = ColumnTransformer([('encoder', OneHotEncoder(handle_unknown='ignore', sparse=True), object_cols)], remainder='passthrough')\n",
        "X = columnTransformer.fit_transform(X)"
      ],
      "execution_count": null,
      "outputs": []
    },
    {
      "cell_type": "code",
      "metadata": {
        "id": "noGQRcPIVxqo"
      },
      "source": [
        "X_train, X_test, y_train, y_test = train_test_split(X, y, test_size=0.02, random_state=42)\n",
        "X_test, X_val, y_test, y_val= train_test_split(X_test, y_test, test_size=0.5, random_state=42)"
      ],
      "execution_count": null,
      "outputs": []
    },
    {
      "cell_type": "code",
      "metadata": {
        "colab": {
          "base_uri": "https://localhost:8080/"
        },
        "id": "dJUxMg5qXqRM",
        "outputId": "a010b7b7-d010-4967-8c04-6d161e010eee"
      },
      "source": [
        "X_test.shape"
      ],
      "execution_count": null,
      "outputs": [
        {
          "output_type": "execute_result",
          "data": {
            "text/plain": [
              "(10612, 334)"
            ]
          },
          "metadata": {},
          "execution_count": 79
        }
      ]
    },
    {
      "cell_type": "code",
      "metadata": {
        "colab": {
          "base_uri": "https://localhost:8080/"
        },
        "id": "WJz73_PGXRuP",
        "outputId": "0544ff96-a89a-405d-e2e5-81c40e768adb"
      },
      "source": [
        "from keras.layers import Dropout\n",
        "\n",
        "# define and fit the final model\n",
        "callback = tf.keras.callbacks.EarlyStopping(monitor='val_loss', patience=1, restore_best_weights=True)\n",
        "\n",
        "gen_baseline = Sequential()\n",
        "gen_baseline.add(Dense(334, input_dim=334, activation='relu'))\n",
        "gen_baseline.add(Dense(256, activation='relu'))\n",
        "gen_baseline.add(Dense(1, activation='linear'))\n",
        "\n",
        "#define optimizer\n",
        "opt = keras.optimizers.Adam(learning_rate=0.0001)\n",
        "\n",
        "#compile model\n",
        "gen_baseline.compile(loss='mean_squared_error', optimizer=opt)\n",
        "baseline_gen = gen_baseline.fit(X_train, y_train, batch_size=32768, epochs=1000, verbose=1,validation_data=(X_val, y_val),callbacks=[callback])\n"
      ],
      "execution_count": null,
      "outputs": [
        {
          "output_type": "stream",
          "name": "stdout",
          "text": [
            "Epoch 1/1000\n"
          ]
        },
        {
          "output_type": "stream",
          "name": "stderr",
          "text": [
            "/usr/local/lib/python3.7/dist-packages/tensorflow/python/framework/indexed_slices.py:450: UserWarning: Converting sparse IndexedSlices(IndexedSlices(indices=Tensor(\"gradient_tape/sequential_17/dense_49/embedding_lookup_sparse/Reshape_1:0\", shape=(None,), dtype=int32), values=Tensor(\"gradient_tape/sequential_17/dense_49/embedding_lookup_sparse/Reshape:0\", shape=(None, 334), dtype=float32), dense_shape=Tensor(\"gradient_tape/sequential_17/dense_49/embedding_lookup_sparse/Cast:0\", shape=(2,), dtype=int32))) to a dense Tensor of unknown shape. This may consume a large amount of memory.\n",
            "  \"shape. This may consume a large amount of memory.\" % value)\n"
          ]
        },
        {
          "output_type": "stream",
          "name": "stdout",
          "text": [
            "32/32 [==============================] - 10s 210ms/step - loss: 63265.4883 - val_loss: 59591.0859\n",
            "Epoch 2/1000\n",
            "32/32 [==============================] - 9s 208ms/step - loss: 56013.9570 - val_loss: 52085.3516\n",
            "Epoch 3/1000\n",
            "32/32 [==============================] - 9s 208ms/step - loss: 47875.7969 - val_loss: 43073.5391\n",
            "Epoch 4/1000\n",
            "32/32 [==============================] - 9s 209ms/step - loss: 37823.7422 - val_loss: 31954.2754\n",
            "Epoch 5/1000\n",
            "32/32 [==============================] - 9s 210ms/step - loss: 26195.0020 - val_loss: 20097.8730\n",
            "Epoch 6/1000\n",
            "32/32 [==============================] - 9s 211ms/step - loss: 15011.7764 - val_loss: 10154.0244\n",
            "Epoch 7/1000\n",
            "32/32 [==============================] - 9s 210ms/step - loss: 6939.4868 - val_loss: 4301.0801\n",
            "Epoch 8/1000\n",
            "32/32 [==============================] - 9s 213ms/step - loss: 3154.1096 - val_loss: 2434.7185\n",
            "Epoch 9/1000\n",
            "32/32 [==============================] - 9s 211ms/step - loss: 2262.3772 - val_loss: 2186.7437\n",
            "Epoch 10/1000\n",
            "32/32 [==============================] - 9s 211ms/step - loss: 2175.1873 - val_loss: 2169.8193\n",
            "Epoch 11/1000\n",
            "32/32 [==============================] - 9s 209ms/step - loss: 2163.4150 - val_loss: 2158.2537\n",
            "Epoch 12/1000\n",
            "32/32 [==============================] - 9s 210ms/step - loss: 2152.0215 - val_loss: 2146.3169\n",
            "Epoch 13/1000\n",
            "32/32 [==============================] - 9s 209ms/step - loss: 2140.3342 - val_loss: 2133.9954\n",
            "Epoch 14/1000\n",
            "32/32 [==============================] - 9s 208ms/step - loss: 2128.1609 - val_loss: 2120.9924\n",
            "Epoch 15/1000\n",
            "32/32 [==============================] - 9s 209ms/step - loss: 2115.4407 - val_loss: 2107.7083\n",
            "Epoch 16/1000\n",
            "32/32 [==============================] - 9s 210ms/step - loss: 2102.5159 - val_loss: 2094.2246\n",
            "Epoch 17/1000\n",
            "32/32 [==============================] - 9s 211ms/step - loss: 2089.4297 - val_loss: 2080.6494\n",
            "Epoch 18/1000\n",
            "32/32 [==============================] - 9s 212ms/step - loss: 2076.2300 - val_loss: 2066.8853\n",
            "Epoch 19/1000\n",
            "32/32 [==============================] - 9s 212ms/step - loss: 2062.5164 - val_loss: 2052.1333\n",
            "Epoch 20/1000\n",
            "32/32 [==============================] - 9s 214ms/step - loss: 2048.1575 - val_loss: 2037.2400\n",
            "Epoch 21/1000\n",
            "32/32 [==============================] - 9s 213ms/step - loss: 2033.6755 - val_loss: 2022.2122\n",
            "Epoch 22/1000\n",
            "32/32 [==============================] - 9s 211ms/step - loss: 2019.0774 - val_loss: 2007.1394\n",
            "Epoch 23/1000\n",
            "32/32 [==============================] - 9s 210ms/step - loss: 2004.3834 - val_loss: 1991.9653\n",
            "Epoch 24/1000\n",
            "32/32 [==============================] - 9s 209ms/step - loss: 1989.6206 - val_loss: 1976.8096\n",
            "Epoch 25/1000\n",
            "32/32 [==============================] - 9s 210ms/step - loss: 1974.8252 - val_loss: 1961.6721\n",
            "Epoch 26/1000\n",
            "32/32 [==============================] - 9s 209ms/step - loss: 1960.0817 - val_loss: 1946.6213\n",
            "Epoch 27/1000\n",
            "32/32 [==============================] - 9s 209ms/step - loss: 1945.3252 - val_loss: 1931.5760\n",
            "Epoch 28/1000\n",
            "32/32 [==============================] - 9s 209ms/step - loss: 1930.3962 - val_loss: 1916.1860\n",
            "Epoch 29/1000\n",
            "32/32 [==============================] - 9s 209ms/step - loss: 1915.3438 - val_loss: 1900.8561\n",
            "Epoch 30/1000\n",
            "32/32 [==============================] - 9s 209ms/step - loss: 1900.3552 - val_loss: 1885.6587\n",
            "Epoch 31/1000\n",
            "32/32 [==============================] - 9s 213ms/step - loss: 1885.5715 - val_loss: 1870.6755\n",
            "Epoch 32/1000\n",
            "32/32 [==============================] - 9s 208ms/step - loss: 1871.0267 - val_loss: 1856.0107\n",
            "Epoch 33/1000\n",
            "32/32 [==============================] - 9s 207ms/step - loss: 1856.8280 - val_loss: 1841.7845\n",
            "Epoch 34/1000\n",
            "32/32 [==============================] - 9s 210ms/step - loss: 1843.0114 - val_loss: 1827.8052\n",
            "Epoch 35/1000\n",
            "32/32 [==============================] - 9s 209ms/step - loss: 1829.5302 - val_loss: 1814.2422\n",
            "Epoch 36/1000\n",
            "32/32 [==============================] - 9s 210ms/step - loss: 1816.4774 - val_loss: 1801.1605\n",
            "Epoch 37/1000\n",
            "32/32 [==============================] - 9s 210ms/step - loss: 1803.7689 - val_loss: 1788.0978\n",
            "Epoch 38/1000\n",
            "32/32 [==============================] - 9s 212ms/step - loss: 1790.9985 - val_loss: 1774.9200\n",
            "Epoch 39/1000\n",
            "32/32 [==============================] - 9s 209ms/step - loss: 1778.1674 - val_loss: 1761.4884\n",
            "Epoch 40/1000\n",
            "32/32 [==============================] - 9s 209ms/step - loss: 1765.4335 - val_loss: 1748.6298\n",
            "Epoch 41/1000\n",
            "32/32 [==============================] - 9s 208ms/step - loss: 1753.1071 - val_loss: 1736.2427\n",
            "Epoch 42/1000\n",
            "32/32 [==============================] - 9s 208ms/step - loss: 1741.2798 - val_loss: 1724.2273\n",
            "Epoch 43/1000\n",
            "32/32 [==============================] - 9s 209ms/step - loss: 1729.8398 - val_loss: 1712.9385\n",
            "Epoch 44/1000\n",
            "32/32 [==============================] - 9s 210ms/step - loss: 1718.9659 - val_loss: 1702.0699\n",
            "Epoch 45/1000\n",
            "32/32 [==============================] - 9s 211ms/step - loss: 1708.5835 - val_loss: 1691.7006\n",
            "Epoch 46/1000\n",
            "32/32 [==============================] - 9s 207ms/step - loss: 1698.6758 - val_loss: 1681.8551\n",
            "Epoch 47/1000\n",
            "32/32 [==============================] - 9s 209ms/step - loss: 1689.2465 - val_loss: 1672.5099\n",
            "Epoch 48/1000\n",
            "32/32 [==============================] - 9s 206ms/step - loss: 1680.2758 - val_loss: 1663.6246\n",
            "Epoch 49/1000\n",
            "32/32 [==============================] - 9s 209ms/step - loss: 1671.7766 - val_loss: 1655.1620\n",
            "Epoch 50/1000\n",
            "32/32 [==============================] - 9s 209ms/step - loss: 1663.7118 - val_loss: 1647.1121\n",
            "Epoch 51/1000\n",
            "32/32 [==============================] - 9s 208ms/step - loss: 1656.0046 - val_loss: 1639.5450\n",
            "Epoch 52/1000\n",
            "32/32 [==============================] - 9s 212ms/step - loss: 1648.7076 - val_loss: 1632.2732\n",
            "Epoch 53/1000\n",
            "32/32 [==============================] - 9s 209ms/step - loss: 1641.8051 - val_loss: 1625.4141\n",
            "Epoch 54/1000\n",
            "32/32 [==============================] - 9s 208ms/step - loss: 1635.1732 - val_loss: 1618.8473\n",
            "Epoch 55/1000\n",
            "32/32 [==============================] - 9s 210ms/step - loss: 1628.9100 - val_loss: 1612.6016\n",
            "Epoch 56/1000\n",
            "32/32 [==============================] - 9s 210ms/step - loss: 1622.9418 - val_loss: 1606.6484\n",
            "Epoch 57/1000\n",
            "32/32 [==============================] - 9s 208ms/step - loss: 1617.2209 - val_loss: 1600.9423\n",
            "Epoch 58/1000\n",
            "32/32 [==============================] - 9s 209ms/step - loss: 1611.8207 - val_loss: 1595.5269\n",
            "Epoch 59/1000\n",
            "32/32 [==============================] - 9s 209ms/step - loss: 1606.6184 - val_loss: 1590.3136\n",
            "Epoch 60/1000\n",
            "32/32 [==============================] - 9s 207ms/step - loss: 1601.5999 - val_loss: 1585.4147\n",
            "Epoch 61/1000\n",
            "32/32 [==============================] - 9s 207ms/step - loss: 1596.8271 - val_loss: 1580.6776\n",
            "Epoch 62/1000\n",
            "32/32 [==============================] - 9s 210ms/step - loss: 1592.2448 - val_loss: 1576.0320\n",
            "Epoch 63/1000\n",
            "32/32 [==============================] - 9s 213ms/step - loss: 1587.8408 - val_loss: 1571.7115\n",
            "Epoch 64/1000\n",
            "32/32 [==============================] - 9s 209ms/step - loss: 1583.6416 - val_loss: 1567.4844\n",
            "Epoch 65/1000\n",
            "32/32 [==============================] - 9s 209ms/step - loss: 1579.6121 - val_loss: 1563.4901\n",
            "Epoch 66/1000\n",
            "32/32 [==============================] - 9s 209ms/step - loss: 1575.6750 - val_loss: 1559.5828\n",
            "Epoch 67/1000\n",
            "32/32 [==============================] - 9s 208ms/step - loss: 1571.9637 - val_loss: 1555.8984\n",
            "Epoch 68/1000\n",
            "32/32 [==============================] - 9s 209ms/step - loss: 1568.3368 - val_loss: 1552.2064\n",
            "Epoch 69/1000\n",
            "32/32 [==============================] - 9s 208ms/step - loss: 1564.8289 - val_loss: 1548.8334\n",
            "Epoch 70/1000\n",
            "32/32 [==============================] - 9s 212ms/step - loss: 1561.4551 - val_loss: 1545.4144\n",
            "Epoch 71/1000\n",
            "32/32 [==============================] - 9s 209ms/step - loss: 1558.2047 - val_loss: 1542.2477\n",
            "Epoch 72/1000\n",
            "32/32 [==============================] - 9s 215ms/step - loss: 1555.0559 - val_loss: 1539.1111\n",
            "Epoch 73/1000\n",
            "32/32 [==============================] - 9s 212ms/step - loss: 1551.9998 - val_loss: 1536.1270\n",
            "Epoch 74/1000\n",
            "32/32 [==============================] - 9s 211ms/step - loss: 1549.0529 - val_loss: 1533.1819\n",
            "Epoch 75/1000\n",
            "32/32 [==============================] - 9s 207ms/step - loss: 1546.1852 - val_loss: 1530.3558\n",
            "Epoch 76/1000\n",
            "32/32 [==============================] - 9s 206ms/step - loss: 1543.4067 - val_loss: 1527.5988\n",
            "Epoch 77/1000\n",
            "32/32 [==============================] - 9s 210ms/step - loss: 1540.7334 - val_loss: 1524.9252\n",
            "Epoch 78/1000\n",
            "32/32 [==============================] - 9s 208ms/step - loss: 1538.1183 - val_loss: 1522.3777\n",
            "Epoch 79/1000\n",
            "32/32 [==============================] - 9s 208ms/step - loss: 1535.5841 - val_loss: 1519.8696\n",
            "Epoch 80/1000\n",
            "32/32 [==============================] - 9s 208ms/step - loss: 1533.1095 - val_loss: 1517.4991\n",
            "Epoch 81/1000\n",
            "32/32 [==============================] - 9s 209ms/step - loss: 1530.7290 - val_loss: 1515.1118\n",
            "Epoch 82/1000\n",
            "32/32 [==============================] - 9s 210ms/step - loss: 1528.4026 - val_loss: 1512.9734\n",
            "Epoch 83/1000\n",
            "32/32 [==============================] - 9s 210ms/step - loss: 1526.1429 - val_loss: 1510.6289\n",
            "Epoch 84/1000\n",
            "32/32 [==============================] - 9s 209ms/step - loss: 1523.9694 - val_loss: 1508.4331\n",
            "Epoch 85/1000\n",
            "32/32 [==============================] - 9s 210ms/step - loss: 1521.7584 - val_loss: 1506.3348\n",
            "Epoch 86/1000\n",
            "32/32 [==============================] - 9s 209ms/step - loss: 1519.6821 - val_loss: 1504.3119\n",
            "Epoch 87/1000\n",
            "32/32 [==============================] - 9s 208ms/step - loss: 1517.6454 - val_loss: 1502.3054\n",
            "Epoch 88/1000\n",
            "32/32 [==============================] - 9s 208ms/step - loss: 1515.6221 - val_loss: 1500.2950\n",
            "Epoch 89/1000\n",
            "32/32 [==============================] - 9s 208ms/step - loss: 1513.6594 - val_loss: 1498.3821\n",
            "Epoch 90/1000\n",
            "32/32 [==============================] - 9s 207ms/step - loss: 1511.7523 - val_loss: 1496.5552\n",
            "Epoch 91/1000\n",
            "32/32 [==============================] - 9s 209ms/step - loss: 1509.8059 - val_loss: 1494.5149\n",
            "Epoch 92/1000\n",
            "32/32 [==============================] - 9s 209ms/step - loss: 1507.9108 - val_loss: 1492.6836\n",
            "Epoch 93/1000\n",
            "32/32 [==============================] - 9s 208ms/step - loss: 1506.0769 - val_loss: 1490.8990\n",
            "Epoch 94/1000\n",
            "32/32 [==============================] - 9s 208ms/step - loss: 1504.2582 - val_loss: 1489.1816\n",
            "Epoch 95/1000\n",
            "32/32 [==============================] - 9s 209ms/step - loss: 1502.5084 - val_loss: 1487.3304\n",
            "Epoch 96/1000\n",
            "32/32 [==============================] - 9s 211ms/step - loss: 1500.7660 - val_loss: 1485.7272\n",
            "Epoch 97/1000\n",
            "32/32 [==============================] - 9s 209ms/step - loss: 1498.9955 - val_loss: 1483.9414\n",
            "Epoch 98/1000\n",
            "32/32 [==============================] - 9s 209ms/step - loss: 1497.3451 - val_loss: 1482.2725\n",
            "Epoch 99/1000\n",
            "32/32 [==============================] - 9s 210ms/step - loss: 1495.7242 - val_loss: 1480.6553\n",
            "Epoch 100/1000\n",
            "32/32 [==============================] - 9s 206ms/step - loss: 1494.0903 - val_loss: 1479.0178\n",
            "Epoch 101/1000\n",
            "32/32 [==============================] - 9s 208ms/step - loss: 1492.5012 - val_loss: 1477.4609\n",
            "Epoch 102/1000\n",
            "32/32 [==============================] - 9s 208ms/step - loss: 1490.9482 - val_loss: 1475.7670\n",
            "Epoch 103/1000\n",
            "32/32 [==============================] - 9s 210ms/step - loss: 1489.3033 - val_loss: 1474.2067\n",
            "Epoch 104/1000\n",
            "32/32 [==============================] - 9s 205ms/step - loss: 1487.7108 - val_loss: 1472.5958\n",
            "Epoch 105/1000\n",
            "32/32 [==============================] - 9s 208ms/step - loss: 1486.1741 - val_loss: 1471.0184\n",
            "Epoch 106/1000\n",
            "32/32 [==============================] - 9s 211ms/step - loss: 1484.5940 - val_loss: 1469.4814\n",
            "Epoch 107/1000\n",
            "32/32 [==============================] - 9s 207ms/step - loss: 1483.0610 - val_loss: 1467.9594\n",
            "Epoch 108/1000\n",
            "32/32 [==============================] - 9s 208ms/step - loss: 1481.5894 - val_loss: 1466.6526\n",
            "Epoch 109/1000\n",
            "32/32 [==============================] - 9s 208ms/step - loss: 1480.1978 - val_loss: 1465.1090\n",
            "Epoch 110/1000\n",
            "32/32 [==============================] - 9s 212ms/step - loss: 1478.7837 - val_loss: 1463.6205\n",
            "Epoch 111/1000\n",
            "32/32 [==============================] - 9s 208ms/step - loss: 1477.3848 - val_loss: 1462.3162\n",
            "Epoch 112/1000\n",
            "32/32 [==============================] - 9s 208ms/step - loss: 1476.0496 - val_loss: 1461.0626\n",
            "Epoch 113/1000\n",
            "32/32 [==============================] - 9s 213ms/step - loss: 1474.7385 - val_loss: 1459.5824\n",
            "Epoch 114/1000\n",
            "32/32 [==============================] - 9s 210ms/step - loss: 1473.4530 - val_loss: 1458.3508\n",
            "Epoch 115/1000\n",
            "32/32 [==============================] - 9s 208ms/step - loss: 1472.1946 - val_loss: 1457.1035\n",
            "Epoch 116/1000\n",
            "32/32 [==============================] - 9s 210ms/step - loss: 1470.9814 - val_loss: 1456.0066\n",
            "Epoch 117/1000\n",
            "32/32 [==============================] - 9s 210ms/step - loss: 1469.8199 - val_loss: 1454.8221\n",
            "Epoch 118/1000\n",
            "32/32 [==============================] - 9s 210ms/step - loss: 1468.7061 - val_loss: 1453.7941\n",
            "Epoch 119/1000\n",
            "32/32 [==============================] - 9s 206ms/step - loss: 1467.5999 - val_loss: 1452.5571\n",
            "Epoch 120/1000\n",
            "32/32 [==============================] - 9s 208ms/step - loss: 1466.4468 - val_loss: 1451.4188\n",
            "Epoch 121/1000\n",
            "32/32 [==============================] - 9s 210ms/step - loss: 1465.4076 - val_loss: 1450.3876\n",
            "Epoch 122/1000\n",
            "32/32 [==============================] - 9s 209ms/step - loss: 1464.3912 - val_loss: 1449.3544\n",
            "Epoch 123/1000\n",
            "32/32 [==============================] - 9s 209ms/step - loss: 1463.3713 - val_loss: 1448.3956\n",
            "Epoch 124/1000\n",
            "32/32 [==============================] - 9s 208ms/step - loss: 1462.3862 - val_loss: 1447.2921\n",
            "Epoch 125/1000\n",
            "32/32 [==============================] - 9s 209ms/step - loss: 1461.3940 - val_loss: 1446.4221\n",
            "Epoch 126/1000\n",
            "32/32 [==============================] - 9s 209ms/step - loss: 1460.4313 - val_loss: 1445.3463\n",
            "Epoch 127/1000\n",
            "32/32 [==============================] - 9s 210ms/step - loss: 1459.4475 - val_loss: 1444.7867\n",
            "Epoch 128/1000\n",
            "32/32 [==============================] - 9s 211ms/step - loss: 1458.4943 - val_loss: 1443.4784\n",
            "Epoch 129/1000\n",
            "32/32 [==============================] - 9s 209ms/step - loss: 1457.5710 - val_loss: 1442.5710\n",
            "Epoch 130/1000\n",
            "32/32 [==============================] - 9s 208ms/step - loss: 1456.6208 - val_loss: 1441.5613\n",
            "Epoch 131/1000\n",
            "32/32 [==============================] - 9s 210ms/step - loss: 1455.7051 - val_loss: 1440.6577\n",
            "Epoch 132/1000\n",
            "32/32 [==============================] - 9s 207ms/step - loss: 1454.8108 - val_loss: 1439.9304\n",
            "Epoch 133/1000\n",
            "32/32 [==============================] - 9s 207ms/step - loss: 1453.9602 - val_loss: 1439.1537\n",
            "Epoch 134/1000\n",
            "32/32 [==============================] - 9s 210ms/step - loss: 1453.0974 - val_loss: 1438.2329\n",
            "Epoch 135/1000\n",
            "32/32 [==============================] - 9s 212ms/step - loss: 1452.3153 - val_loss: 1437.5068\n",
            "Epoch 136/1000\n",
            "32/32 [==============================] - 9s 211ms/step - loss: 1451.4852 - val_loss: 1436.5865\n",
            "Epoch 137/1000\n",
            "32/32 [==============================] - 9s 209ms/step - loss: 1450.7501 - val_loss: 1436.1780\n",
            "Epoch 138/1000\n",
            "32/32 [==============================] - 9s 209ms/step - loss: 1449.9377 - val_loss: 1435.1394\n",
            "Epoch 139/1000\n",
            "32/32 [==============================] - 9s 213ms/step - loss: 1449.1508 - val_loss: 1434.2592\n",
            "Epoch 140/1000\n",
            "32/32 [==============================] - 9s 208ms/step - loss: 1448.4432 - val_loss: 1433.4659\n",
            "Epoch 141/1000\n",
            "32/32 [==============================] - 9s 208ms/step - loss: 1447.8082 - val_loss: 1432.9321\n",
            "Epoch 142/1000\n",
            "32/32 [==============================] - 9s 211ms/step - loss: 1446.9784 - val_loss: 1432.4327\n",
            "Epoch 143/1000\n",
            "32/32 [==============================] - 9s 209ms/step - loss: 1446.3376 - val_loss: 1431.7491\n",
            "Epoch 144/1000\n",
            "32/32 [==============================] - 9s 208ms/step - loss: 1445.6672 - val_loss: 1430.7783\n",
            "Epoch 145/1000\n",
            "32/32 [==============================] - 9s 208ms/step - loss: 1444.9244 - val_loss: 1430.2906\n",
            "Epoch 146/1000\n",
            "32/32 [==============================] - 9s 209ms/step - loss: 1444.3468 - val_loss: 1429.5668\n",
            "Epoch 147/1000\n",
            "32/32 [==============================] - 9s 208ms/step - loss: 1443.6349 - val_loss: 1428.9910\n",
            "Epoch 148/1000\n",
            "32/32 [==============================] - 9s 211ms/step - loss: 1443.0342 - val_loss: 1428.6227\n",
            "Epoch 149/1000\n",
            "32/32 [==============================] - 9s 209ms/step - loss: 1442.4570 - val_loss: 1427.7899\n",
            "Epoch 150/1000\n",
            "32/32 [==============================] - 9s 210ms/step - loss: 1441.7739 - val_loss: 1427.1431\n",
            "Epoch 151/1000\n",
            "32/32 [==============================] - 9s 210ms/step - loss: 1441.2018 - val_loss: 1426.6796\n",
            "Epoch 152/1000\n",
            "32/32 [==============================] - 9s 209ms/step - loss: 1440.6519 - val_loss: 1426.3046\n",
            "Epoch 153/1000\n",
            "32/32 [==============================] - 9s 210ms/step - loss: 1440.0477 - val_loss: 1425.7678\n",
            "Epoch 154/1000\n",
            "32/32 [==============================] - 9s 211ms/step - loss: 1439.4886 - val_loss: 1425.0302\n",
            "Epoch 155/1000\n",
            "32/32 [==============================] - 9s 212ms/step - loss: 1438.8929 - val_loss: 1424.5166\n",
            "Epoch 156/1000\n",
            "32/32 [==============================] - 9s 211ms/step - loss: 1438.3656 - val_loss: 1424.2013\n",
            "Epoch 157/1000\n",
            "32/32 [==============================] - 9s 212ms/step - loss: 1437.8800 - val_loss: 1423.6128\n",
            "Epoch 158/1000\n",
            "32/32 [==============================] - 9s 209ms/step - loss: 1437.2458 - val_loss: 1422.9731\n",
            "Epoch 159/1000\n",
            "32/32 [==============================] - 9s 209ms/step - loss: 1436.7909 - val_loss: 1422.7233\n",
            "Epoch 160/1000\n",
            "32/32 [==============================] - 9s 212ms/step - loss: 1436.2543 - val_loss: 1421.8077\n",
            "Epoch 161/1000\n",
            "32/32 [==============================] - 9s 209ms/step - loss: 1435.7468 - val_loss: 1421.4570\n",
            "Epoch 162/1000\n",
            "32/32 [==============================] - 9s 210ms/step - loss: 1435.1643 - val_loss: 1421.1495\n",
            "Epoch 163/1000\n",
            "32/32 [==============================] - 9s 208ms/step - loss: 1434.6664 - val_loss: 1420.5369\n",
            "Epoch 164/1000\n",
            "32/32 [==============================] - 9s 211ms/step - loss: 1434.1726 - val_loss: 1420.0717\n",
            "Epoch 165/1000\n",
            "32/32 [==============================] - 9s 208ms/step - loss: 1433.6539 - val_loss: 1419.5800\n",
            "Epoch 166/1000\n",
            "32/32 [==============================] - 9s 209ms/step - loss: 1433.1576 - val_loss: 1419.2996\n",
            "Epoch 167/1000\n",
            "32/32 [==============================] - 9s 209ms/step - loss: 1432.7682 - val_loss: 1418.6489\n",
            "Epoch 168/1000\n",
            "32/32 [==============================] - 9s 211ms/step - loss: 1432.2383 - val_loss: 1418.1357\n",
            "Epoch 169/1000\n",
            "32/32 [==============================] - 9s 211ms/step - loss: 1431.7267 - val_loss: 1417.8829\n",
            "Epoch 170/1000\n",
            "32/32 [==============================] - 9s 211ms/step - loss: 1431.3420 - val_loss: 1417.3951\n",
            "Epoch 171/1000\n",
            "32/32 [==============================] - 9s 212ms/step - loss: 1430.8198 - val_loss: 1417.0634\n",
            "Epoch 172/1000\n",
            "32/32 [==============================] - 9s 208ms/step - loss: 1430.3347 - val_loss: 1416.5017\n",
            "Epoch 173/1000\n",
            "32/32 [==============================] - 9s 210ms/step - loss: 1429.8998 - val_loss: 1416.1609\n",
            "Epoch 174/1000\n",
            "32/32 [==============================] - 9s 208ms/step - loss: 1429.4061 - val_loss: 1415.5737\n",
            "Epoch 175/1000\n",
            "32/32 [==============================] - 9s 213ms/step - loss: 1429.0594 - val_loss: 1415.3806\n",
            "Epoch 176/1000\n",
            "32/32 [==============================] - 9s 210ms/step - loss: 1428.5425 - val_loss: 1414.9110\n",
            "Epoch 177/1000\n",
            "32/32 [==============================] - 9s 209ms/step - loss: 1428.2119 - val_loss: 1414.2860\n",
            "Epoch 178/1000\n",
            "32/32 [==============================] - 9s 209ms/step - loss: 1427.6593 - val_loss: 1414.0852\n",
            "Epoch 179/1000\n",
            "32/32 [==============================] - 9s 211ms/step - loss: 1427.2274 - val_loss: 1413.6134\n",
            "Epoch 180/1000\n",
            "32/32 [==============================] - 9s 210ms/step - loss: 1426.7949 - val_loss: 1413.2930\n",
            "Epoch 181/1000\n",
            "32/32 [==============================] - 9s 208ms/step - loss: 1426.4296 - val_loss: 1412.7911\n",
            "Epoch 182/1000\n",
            "32/32 [==============================] - 9s 210ms/step - loss: 1425.9496 - val_loss: 1412.4478\n",
            "Epoch 183/1000\n",
            "32/32 [==============================] - 9s 207ms/step - loss: 1425.5774 - val_loss: 1412.0994\n",
            "Epoch 184/1000\n",
            "32/32 [==============================] - 9s 208ms/step - loss: 1425.1893 - val_loss: 1411.6613\n",
            "Epoch 185/1000\n",
            "32/32 [==============================] - 9s 209ms/step - loss: 1424.7321 - val_loss: 1411.5334\n",
            "Epoch 186/1000\n",
            "32/32 [==============================] - 9s 208ms/step - loss: 1424.3541 - val_loss: 1411.2937\n",
            "Epoch 187/1000\n",
            "32/32 [==============================] - 9s 209ms/step - loss: 1424.0376 - val_loss: 1410.5896\n",
            "Epoch 188/1000\n",
            "32/32 [==============================] - 9s 213ms/step - loss: 1423.5321 - val_loss: 1410.5793\n",
            "Epoch 189/1000\n",
            "32/32 [==============================] - 9s 211ms/step - loss: 1423.2119 - val_loss: 1410.0919\n",
            "Epoch 190/1000\n",
            "32/32 [==============================] - 9s 214ms/step - loss: 1422.8506 - val_loss: 1409.7631\n",
            "Epoch 191/1000\n",
            "32/32 [==============================] - 9s 214ms/step - loss: 1422.4027 - val_loss: 1409.2777\n",
            "Epoch 192/1000\n",
            "32/32 [==============================] - 9s 214ms/step - loss: 1422.0198 - val_loss: 1409.2417\n",
            "Epoch 193/1000\n",
            "32/32 [==============================] - 9s 218ms/step - loss: 1421.7482 - val_loss: 1408.6016\n",
            "Epoch 194/1000\n",
            "32/32 [==============================] - 9s 215ms/step - loss: 1421.2836 - val_loss: 1408.5526\n",
            "Epoch 195/1000\n",
            "32/32 [==============================] - 9s 208ms/step - loss: 1420.9692 - val_loss: 1408.1049\n",
            "Epoch 196/1000\n",
            "32/32 [==============================] - 9s 210ms/step - loss: 1420.5574 - val_loss: 1407.9398\n",
            "Epoch 197/1000\n",
            "32/32 [==============================] - 9s 208ms/step - loss: 1420.2078 - val_loss: 1407.4595\n",
            "Epoch 198/1000\n",
            "32/32 [==============================] - 9s 212ms/step - loss: 1419.8381 - val_loss: 1407.1831\n",
            "Epoch 199/1000\n",
            "32/32 [==============================] - 9s 207ms/step - loss: 1419.5125 - val_loss: 1407.0696\n",
            "Epoch 200/1000\n",
            "32/32 [==============================] - 9s 209ms/step - loss: 1419.2650 - val_loss: 1406.6512\n",
            "Epoch 201/1000\n",
            "32/32 [==============================] - 9s 208ms/step - loss: 1418.9277 - val_loss: 1406.1990\n",
            "Epoch 202/1000\n",
            "32/32 [==============================] - 9s 208ms/step - loss: 1418.5333 - val_loss: 1406.1927\n",
            "Epoch 203/1000\n",
            "32/32 [==============================] - 9s 207ms/step - loss: 1418.1917 - val_loss: 1405.5562\n",
            "Epoch 204/1000\n",
            "32/32 [==============================] - 9s 211ms/step - loss: 1417.9418 - val_loss: 1405.5946\n"
          ]
        }
      ]
    },
    {
      "cell_type": "code",
      "metadata": {
        "colab": {
          "base_uri": "https://localhost:8080/"
        },
        "id": "VY6VNxr7HF5O",
        "outputId": "37b149b2-b606-4c90-c495-d447e1557e8d"
      },
      "source": [
        "#Model evaluation and comparison\n",
        "print('RMSE in train set:', gen_baseline.evaluate(X_train, y_train, verbose=0))\n",
        "print('RMSE in test set:', gen_baseline.evaluate(X_test, y_test, verbose=0))\n",
        "print('RMSE in validation set:', gen_baseline.evaluate(X_val, y_val, verbose=0))"
      ],
      "execution_count": null,
      "outputs": [
        {
          "output_type": "stream",
          "name": "stdout",
          "text": [
            "RMSE in train set: 1417.92236328125\n",
            "RMSE in test set: 1419.611083984375\n",
            "RMSE in validation set: 1405.5565185546875\n"
          ]
        }
      ]
    },
    {
      "cell_type": "code",
      "metadata": {
        "id": "Y7tA6rJhZwzK",
        "colab": {
          "base_uri": "https://localhost:8080/",
          "height": 268
        },
        "outputId": "ea6a5ec4-f88b-449f-b188-0e991489eda2"
      },
      "source": [
        "\n",
        "#plot model\n",
        "plt.plot(baseline_gen.history['loss'], label='train')\n",
        "plt.plot(baseline_gen.history['val_loss'], label='test')\n",
        "plt.legend()\n",
        "plt.show()"
      ],
      "execution_count": null,
      "outputs": [
        {
          "output_type": "display_data",
          "data": {
            "image/png": "[encoded data removed]",
            "text/plain": [
              "<Figure size 432x288 with 1 Axes>"
            ]
          },
          "metadata": {
            "needs_background": "light"
          }
        }
      ]
    },
    {
      "cell_type": "code",
      "metadata": {
        "colab": {
          "base_uri": "https://localhost:8080/",
          "height": 411
        },
        "id": "jLJFyqhblRDF",
        "outputId": "50c65b13-56f2-4f4e-c8b1-09ccb5aa3353"
      },
      "source": [
        "\n",
        "#plot model\n",
        "plt.figure(figsize=[18, 6])\n",
        "plt.subplot(1, 2, 1)\n",
        "plt.plot(baseline_gen.history['loss'], label='train')\n",
        "plt.title('Loss')\n",
        "plt.grid()\n",
        "plt.subplot(1, 2, 2)\n",
        "plt.plot(baseline_gen.history['val_loss'], label='test')\n",
        "plt.title('MSE on validation set')\n",
        "plt.grid()\n",
        "plt.savefig(\"Baseline performance.png\", dpi=100)\n",
        "plt.show()\n",
        "\n",
        "\n",
        "files.download(\"Baseline performance.png\")"
      ],
      "execution_count": null,
      "outputs": [
        {
          "output_type": "display_data",
          "data": {
            "image/png": "[encoded data removed]",
            "text/plain": [
              "<Figure size 1296x432 with 2 Axes>"
            ]
          },
          "metadata": {
            "needs_background": "light"
          }
        },
        {
          "output_type": "display_data",
          "data": {
            "application/javascript": [
              "\n",
              "    async function download(id, filename, size) {\n",
              "      if (!google.colab.kernel.accessAllowed) {\n",
              "        return;\n",
              "      }\n",
              "      const div = document.createElement('div');\n",
              "      const label = document.createElement('label');\n",
              "      label.textContent = `Downloading \"${filename}\": `;\n",
              "      div.appendChild(label);\n",
              "      const progress = document.createElement('progress');\n",
              "      progress.max = size;\n",
              "      div.appendChild(progress);\n",
              "      document.body.appendChild(div);\n",
              "\n",
              "      const buffers = [];\n",
              "      let downloaded = 0;\n",
              "\n",
              "      const channel = await google.colab.kernel.comms.open(id);\n",
              "      // Send a message to notify the kernel that we're ready.\n",
              "      channel.send({})\n",
              "\n",
              "      for await (const message of channel.messages) {\n",
              "        // Send a message to notify the kernel that we're ready.\n",
              "        channel.send({})\n",
              "        if (message.buffers) {\n",
              "          for (const buffer of message.buffers) {\n",
              "            buffers.push(buffer);\n",
              "            downloaded += buffer.byteLength;\n",
              "            progress.value = downloaded;\n",
              "          }\n",
              "        }\n",
              "      }\n",
              "      const blob = new Blob(buffers, {type: 'application/binary'});\n",
              "      const a = document.createElement('a');\n",
              "      a.href = window.URL.createObjectURL(blob);\n",
              "      a.download = filename;\n",
              "      div.appendChild(a);\n",
              "      a.click();\n",
              "      div.remove();\n",
              "    }\n",
              "  "
            ],
            "text/plain": [
              "<IPython.core.display.Javascript object>"
            ]
          },
          "metadata": {}
        },
        {
          "output_type": "display_data",
          "data": {
            "application/javascript": [
              "download(\"download_7cbdce26-bb55-4b4d-b6da-4f5bd1692aae\", \"Baseline performance.png\", 1992)"
            ],
            "text/plain": [
              "<IPython.core.display.Javascript object>"
            ]
          },
          "metadata": {}
        },
        {
          "output_type": "display_data",
          "data": {
            "text/plain": [
              "<Figure size 432x288 with 0 Axes>"
            ]
          },
          "metadata": {}
        }
      ]
    }
  ]
}