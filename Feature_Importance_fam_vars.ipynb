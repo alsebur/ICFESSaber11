{
  "nbformat": 4,
  "nbformat_minor": 0,
  "metadata": {
    "accelerator": "GPU",
    "colab": {
      "name": "Feature Importance_fam_vars.ipynb",
      "provenance": [],
      "collapsed_sections": [],
      "machine_shape": "hm"
    },
    "kernelspec": {
      "display_name": "Python 3",
      "name": "python3"
    },
    "language_info": {
      "name": "python"
    }
  },
  "cells": [
    {
      "cell_type": "code",
      "metadata": {
        "colab": {
          "base_uri": "https://localhost:8080/"
        },
        "id": "vnZrIXQK2jr4",
        "outputId": "69ab6ba5-38cd-4fd1-9201-ad37bcbf8fc2"
      },
      "source": [
        "!pip install tensorflow_addons\n",
        "!pip install pytorch-tabnet\n",
        "import pandas as pd\n",
        "import numpy as np\n",
        "from scipy import stats\n",
        "from sklearn.model_selection import train_test_split\n",
        "import torch\n",
        "import tensorflow as tf\n",
        "from tensorflow import keras\n",
        "from typing import Optional, Union, Tuple\n",
        "from pytorch_tabnet.tab_model import TabNetRegressor\n",
        "import tensorflow_probability as tfp\n",
        "import tensorflow_addons as tfa\n",
        "import tensorflow.python\n",
        "from sklearn.preprocessing import LabelEncoder\n",
        "from sklearn.metrics import mean_squared_error\n",
        "from tensorflow.keras import layers\n",
        "from keras.callbacks import EarlyStopping\n",
        "import matplotlib.pyplot as plt\n",
        "import seaborn as sns\n",
        "from sklearn.preprocessing import OneHotEncoder\n",
        "from sklearn.compose import ColumnTransformer\n",
        "import sklearn \n",
        "import sklearn.linear_model \n",
        "import matplotlib \n",
        "from keras.models import Sequential\n",
        "from keras.layers import Dense\n",
        "from keras import backend as K\n",
        "sns.set(rc={'figure.figsize':(11.7,8.27)})\n",
        "\n",
        "from tensorflow.python.client import device_lib\n",
        "print(device_lib.list_local_devices())"
      ],
      "execution_count": null,
      "outputs": [
        {
          "output_type": "stream",
          "name": "stdout",
          "text": [
            "Collecting tensorflow_addons\n",
            "  Downloading tensorflow_addons-0.15.0-cp37-cp37m-manylinux_2_12_x86_64.manylinux2010_x86_64.whl (1.1 MB)\n",
            "\u001b[?25l\r\u001b[K     |▎                               | 10 kB 34.3 MB/s eta 0:00:01\r\u001b[K     |▋                               | 20 kB 27.2 MB/s eta 0:00:01\r\u001b[K     |▉                               | 30 kB 12.6 MB/s eta 0:00:01\r\u001b[K     |█▏                              | 40 kB 10.1 MB/s eta 0:00:01\r\u001b[K     |█▌                              | 51 kB 4.4 MB/s eta 0:00:01\r\u001b[K     |█▊                              | 61 kB 4.6 MB/s eta 0:00:01\r\u001b[K     |██                              | 71 kB 4.5 MB/s eta 0:00:01\r\u001b[K     |██▍                             | 81 kB 5.1 MB/s eta 0:00:01\r\u001b[K     |██▋                             | 92 kB 5.1 MB/s eta 0:00:01\r\u001b[K     |███                             | 102 kB 4.3 MB/s eta 0:00:01\r\u001b[K     |███▎                            | 112 kB 4.3 MB/s eta 0:00:01\r\u001b[K     |███▌                            | 122 kB 4.3 MB/s eta 0:00:01\r\u001b[K     |███▉                            | 133 kB 4.3 MB/s eta 0:00:01\r\u001b[K     |████▏                           | 143 kB 4.3 MB/s eta 0:00:01\r\u001b[K     |████▍                           | 153 kB 4.3 MB/s eta 0:00:01\r\u001b[K     |████▊                           | 163 kB 4.3 MB/s eta 0:00:01\r\u001b[K     |█████                           | 174 kB 4.3 MB/s eta 0:00:01\r\u001b[K     |█████▎                          | 184 kB 4.3 MB/s eta 0:00:01\r\u001b[K     |█████▋                          | 194 kB 4.3 MB/s eta 0:00:01\r\u001b[K     |█████▉                          | 204 kB 4.3 MB/s eta 0:00:01\r\u001b[K     |██████▏                         | 215 kB 4.3 MB/s eta 0:00:01\r\u001b[K     |██████▌                         | 225 kB 4.3 MB/s eta 0:00:01\r\u001b[K     |██████▊                         | 235 kB 4.3 MB/s eta 0:00:01\r\u001b[K     |███████                         | 245 kB 4.3 MB/s eta 0:00:01\r\u001b[K     |███████▍                        | 256 kB 4.3 MB/s eta 0:00:01\r\u001b[K     |███████▋                        | 266 kB 4.3 MB/s eta 0:00:01\r\u001b[K     |████████                        | 276 kB 4.3 MB/s eta 0:00:01\r\u001b[K     |████████▎                       | 286 kB 4.3 MB/s eta 0:00:01\r\u001b[K     |████████▌                       | 296 kB 4.3 MB/s eta 0:00:01\r\u001b[K     |████████▉                       | 307 kB 4.3 MB/s eta 0:00:01\r\u001b[K     |█████████                       | 317 kB 4.3 MB/s eta 0:00:01\r\u001b[K     |█████████▍                      | 327 kB 4.3 MB/s eta 0:00:01\r\u001b[K     |█████████▊                      | 337 kB 4.3 MB/s eta 0:00:01\r\u001b[K     |██████████                      | 348 kB 4.3 MB/s eta 0:00:01\r\u001b[K     |██████████▎                     | 358 kB 4.3 MB/s eta 0:00:01\r\u001b[K     |██████████▋                     | 368 kB 4.3 MB/s eta 0:00:01\r\u001b[K     |██████████▉                     | 378 kB 4.3 MB/s eta 0:00:01\r\u001b[K     |███████████▏                    | 389 kB 4.3 MB/s eta 0:00:01\r\u001b[K     |███████████▌                    | 399 kB 4.3 MB/s eta 0:00:01\r\u001b[K     |███████████▊                    | 409 kB 4.3 MB/s eta 0:00:01\r\u001b[K     |████████████                    | 419 kB 4.3 MB/s eta 0:00:01\r\u001b[K     |████████████▍                   | 430 kB 4.3 MB/s eta 0:00:01\r\u001b[K     |████████████▋                   | 440 kB 4.3 MB/s eta 0:00:01\r\u001b[K     |█████████████                   | 450 kB 4.3 MB/s eta 0:00:01\r\u001b[K     |█████████████▎                  | 460 kB 4.3 MB/s eta 0:00:01\r\u001b[K     |█████████████▌                  | 471 kB 4.3 MB/s eta 0:00:01\r\u001b[K     |█████████████▉                  | 481 kB 4.3 MB/s eta 0:00:01\r\u001b[K     |██████████████                  | 491 kB 4.3 MB/s eta 0:00:01\r\u001b[K     |██████████████▍                 | 501 kB 4.3 MB/s eta 0:00:01\r\u001b[K     |██████████████▊                 | 512 kB 4.3 MB/s eta 0:00:01\r\u001b[K     |███████████████                 | 522 kB 4.3 MB/s eta 0:00:01\r\u001b[K     |███████████████▎                | 532 kB 4.3 MB/s eta 0:00:01\r\u001b[K     |███████████████▋                | 542 kB 4.3 MB/s eta 0:00:01\r\u001b[K     |███████████████▉                | 552 kB 4.3 MB/s eta 0:00:01\r\u001b[K     |████████████████▏               | 563 kB 4.3 MB/s eta 0:00:01\r\u001b[K     |████████████████▌               | 573 kB 4.3 MB/s eta 0:00:01\r\u001b[K     |████████████████▊               | 583 kB 4.3 MB/s eta 0:00:01\r\u001b[K     |█████████████████               | 593 kB 4.3 MB/s eta 0:00:01\r\u001b[K     |█████████████████▍              | 604 kB 4.3 MB/s eta 0:00:01\r\u001b[K     |█████████████████▋              | 614 kB 4.3 MB/s eta 0:00:01\r\u001b[K     |██████████████████              | 624 kB 4.3 MB/s eta 0:00:01\r\u001b[K     |██████████████████▏             | 634 kB 4.3 MB/s eta 0:00:01\r\u001b[K     |██████████████████▌             | 645 kB 4.3 MB/s eta 0:00:01\r\u001b[K     |██████████████████▉             | 655 kB 4.3 MB/s eta 0:00:01\r\u001b[K     |███████████████████             | 665 kB 4.3 MB/s eta 0:00:01\r\u001b[K     |███████████████████▍            | 675 kB 4.3 MB/s eta 0:00:01\r\u001b[K     |███████████████████▊            | 686 kB 4.3 MB/s eta 0:00:01\r\u001b[K     |████████████████████            | 696 kB 4.3 MB/s eta 0:00:01\r\u001b[K     |████████████████████▎           | 706 kB 4.3 MB/s eta 0:00:01\r\u001b[K     |████████████████████▋           | 716 kB 4.3 MB/s eta 0:00:01\r\u001b[K     |████████████████████▉           | 727 kB 4.3 MB/s eta 0:00:01\r\u001b[K     |█████████████████████▏          | 737 kB 4.3 MB/s eta 0:00:01\r\u001b[K     |█████████████████████▌          | 747 kB 4.3 MB/s eta 0:00:01\r\u001b[K     |█████████████████████▊          | 757 kB 4.3 MB/s eta 0:00:01\r\u001b[K     |██████████████████████          | 768 kB 4.3 MB/s eta 0:00:01\r\u001b[K     |██████████████████████▎         | 778 kB 4.3 MB/s eta 0:00:01\r\u001b[K     |██████████████████████▋         | 788 kB 4.3 MB/s eta 0:00:01\r\u001b[K     |███████████████████████         | 798 kB 4.3 MB/s eta 0:00:01\r\u001b[K     |███████████████████████▏        | 808 kB 4.3 MB/s eta 0:00:01\r\u001b[K     |███████████████████████▌        | 819 kB 4.3 MB/s eta 0:00:01\r\u001b[K     |███████████████████████▉        | 829 kB 4.3 MB/s eta 0:00:01\r\u001b[K     |████████████████████████        | 839 kB 4.3 MB/s eta 0:00:01\r\u001b[K     |████████████████████████▍       | 849 kB 4.3 MB/s eta 0:00:01\r\u001b[K     |████████████████████████▊       | 860 kB 4.3 MB/s eta 0:00:01\r\u001b[K     |█████████████████████████       | 870 kB 4.3 MB/s eta 0:00:01\r\u001b[K     |█████████████████████████▎      | 880 kB 4.3 MB/s eta 0:00:01\r\u001b[K     |█████████████████████████▋      | 890 kB 4.3 MB/s eta 0:00:01\r\u001b[K     |█████████████████████████▉      | 901 kB 4.3 MB/s eta 0:00:01\r\u001b[K     |██████████████████████████▏     | 911 kB 4.3 MB/s eta 0:00:01\r\u001b[K     |██████████████████████████▌     | 921 kB 4.3 MB/s eta 0:00:01\r\u001b[K     |██████████████████████████▊     | 931 kB 4.3 MB/s eta 0:00:01\r\u001b[K     |███████████████████████████     | 942 kB 4.3 MB/s eta 0:00:01\r\u001b[K     |███████████████████████████▎    | 952 kB 4.3 MB/s eta 0:00:01\r\u001b[K     |███████████████████████████▋    | 962 kB 4.3 MB/s eta 0:00:01\r\u001b[K     |████████████████████████████    | 972 kB 4.3 MB/s eta 0:00:01\r\u001b[K     |████████████████████████████▏   | 983 kB 4.3 MB/s eta 0:00:01\r\u001b[K     |████████████████████████████▌   | 993 kB 4.3 MB/s eta 0:00:01\r\u001b[K     |████████████████████████████▉   | 1.0 MB 4.3 MB/s eta 0:00:01\r\u001b[K     |█████████████████████████████   | 1.0 MB 4.3 MB/s eta 0:00:01\r\u001b[K     |█████████████████████████████▍  | 1.0 MB 4.3 MB/s eta 0:00:01\r\u001b[K     |█████████████████████████████▊  | 1.0 MB 4.3 MB/s eta 0:00:01\r\u001b[K     |██████████████████████████████  | 1.0 MB 4.3 MB/s eta 0:00:01\r\u001b[K     |██████████████████████████████▎ | 1.1 MB 4.3 MB/s eta 0:00:01\r\u001b[K     |██████████████████████████████▋ | 1.1 MB 4.3 MB/s eta 0:00:01\r\u001b[K     |██████████████████████████████▉ | 1.1 MB 4.3 MB/s eta 0:00:01\r\u001b[K     |███████████████████████████████▏| 1.1 MB 4.3 MB/s eta 0:00:01\r\u001b[K     |███████████████████████████████▍| 1.1 MB 4.3 MB/s eta 0:00:01\r\u001b[K     |███████████████████████████████▊| 1.1 MB 4.3 MB/s eta 0:00:01\r\u001b[K     |████████████████████████████████| 1.1 MB 4.3 MB/s \n",
            "\u001b[?25hRequirement already satisfied: typeguard>=2.7 in /usr/local/lib/python3.7/dist-packages (from tensorflow_addons) (2.7.1)\n",
            "Installing collected packages: tensorflow-addons\n",
            "Successfully installed tensorflow-addons-0.15.0\n",
            "Collecting pytorch-tabnet\n",
            "  Downloading pytorch_tabnet-3.1.1-py3-none-any.whl (39 kB)\n",
            "Requirement already satisfied: scipy>1.4 in /usr/local/lib/python3.7/dist-packages (from pytorch-tabnet) (1.4.1)\n",
            "Requirement already satisfied: numpy<2.0,>=1.17 in /usr/local/lib/python3.7/dist-packages (from pytorch-tabnet) (1.19.5)\n",
            "Requirement already satisfied: tqdm<5.0,>=4.36 in /usr/local/lib/python3.7/dist-packages (from pytorch-tabnet) (4.62.3)\n",
            "Requirement already satisfied: scikit_learn>0.21 in /usr/local/lib/python3.7/dist-packages (from pytorch-tabnet) (1.0.1)\n",
            "Requirement already satisfied: torch<2.0,>=1.2 in /usr/local/lib/python3.7/dist-packages (from pytorch-tabnet) (1.10.0+cu111)\n",
            "Requirement already satisfied: joblib>=0.11 in /usr/local/lib/python3.7/dist-packages (from scikit_learn>0.21->pytorch-tabnet) (1.1.0)\n",
            "Requirement already satisfied: threadpoolctl>=2.0.0 in /usr/local/lib/python3.7/dist-packages (from scikit_learn>0.21->pytorch-tabnet) (3.0.0)\n",
            "Requirement already satisfied: typing-extensions in /usr/local/lib/python3.7/dist-packages (from torch<2.0,>=1.2->pytorch-tabnet) (3.10.0.2)\n",
            "Installing collected packages: pytorch-tabnet\n",
            "Successfully installed pytorch-tabnet-3.1.1\n",
            "[name: \"/device:CPU:0\"\n",
            "device_type: \"CPU\"\n",
            "memory_limit: 268435456\n",
            "locality {\n",
            "}\n",
            "incarnation: 9812453568839808912\n",
            "xla_global_id: -1\n",
            ", name: \"/device:GPU:0\"\n",
            "device_type: \"GPU\"\n",
            "memory_limit: 15371862016\n",
            "locality {\n",
            "  bus_id: 1\n",
            "  links {\n",
            "  }\n",
            "}\n",
            "incarnation: 1339184192136070144\n",
            "physical_device_desc: \"device: 0, name: Tesla P100-PCIE-16GB, pci bus id: 0000:00:04.0, compute capability: 6.0\"\n",
            "xla_global_id: 416903419\n",
            "]\n"
          ]
        }
      ]
    },
    {
      "cell_type": "code",
      "metadata": {
        "colab": {
          "base_uri": "https://localhost:8080/"
        },
        "id": "atojoLAx3qEI",
        "outputId": "f3f556c8-17f1-4187-9ee2-f28d268d7fc7"
      },
      "source": [
        "#mount drive\n",
        "from google.colab import drive\n",
        "from google.colab import files\n",
        "drive.mount(\"/content/drive/\")\n",
        "#read file\n",
        "df = pd.read_csv('/content/drive/MyDrive/Thesis/df_cleaned.csv',sep=\",\",header=0,index_col=False)\n",
        "\n"
      ],
      "execution_count": null,
      "outputs": [
        {
          "output_type": "stream",
          "name": "stdout",
          "text": [
            "Mounted at /content/drive/\n"
          ]
        }
      ]
    },
    {
      "cell_type": "code",
      "metadata": {
        "colab": {
          "base_uri": "https://localhost:8080/"
        },
        "id": "caH17yY7qWFP",
        "outputId": "cd691767-01ac-42a0-fd46-8d82237db76b"
      },
      "source": [
        "df.columns"
      ],
      "execution_count": null,
      "outputs": [
        {
          "output_type": "execute_result",
          "data": {
            "text/plain": [
              "Index(['st_nationality', 'st_gender', 'st_state', 'st_resi_country',\n",
              "       'st_is_ethnic', 'st_ethnicity', 'st_resi_dept', 'fam_home_strat',\n",
              "       'fam_inh_home', 'fam_home_rooms', 'fam_edu_father', 'fam_edu_mother',\n",
              "       'fam_work_father', 'fam_work_mother', 'fam_has_internet',\n",
              "       'fam_has_tv_serv', 'fam_has_pc', 'fam_has_wm', 'fam_has_cooker',\n",
              "       'fam_has_car', 'fam_has_mbike', 'fam_has_vgames', 'fam_num_books',\n",
              "       'fam_eat_dairy', 'fam_eat_meat', 'fam_eat_vegfruitcereal',\n",
              "       'fam_econ_state', 'stu_daily_reading', 'stu_daily_internet',\n",
              "       'stu_wkly_wrk_hr', 'stu_comp_type', 'sch_gender', 'sch_nature',\n",
              "       'sch_calen', 'sch_bilingual', 'sch_type', 'sch_loc_type',\n",
              "       'sch_day_time', 'st_is_conv', 'st_dept_pr', 'st_inv_stat',\n",
              "       'total_score', 'st_socioecon_index', 'sch_socioecon_level', 'age'],\n",
              "      dtype='object')"
            ]
          },
          "metadata": {},
          "execution_count": 3
        }
      ]
    },
    {
      "cell_type": "code",
      "metadata": {
        "id": "vfBdS23A5sf6"
      },
      "source": [
        "st_vars = ['st_nationality', 'st_gender', 'st_state', 'st_resi_country', 'st_is_ethnic', 'st_ethnicity','stu_daily_reading', 'stu_daily_internet', \\\n",
        "           'st_resi_dept','st_dept_pr','stu_wkly_wrk_hr', 'stu_comp_type','st_inv_stat','st_is_conv','st_socioecon_index','age','total_score']\n",
        "fam_vars = ['fam_inh_home', 'fam_home_rooms', 'fam_edu_father', 'fam_edu_mother',\\\n",
        "       'fam_work_father', 'fam_work_mother', 'fam_has_internet',\\\n",
        "       'fam_has_tv_serv', 'fam_has_pc', 'fam_has_wm', 'fam_has_cooker',\\\n",
        "       'fam_has_car', 'fam_has_mbike', 'fam_has_vgames', 'fam_num_books',\\\n",
        "       'fam_eat_dairy', 'fam_eat_meat', 'fam_eat_vegfruitcereal',\\\n",
        "       'fam_econ_state', 'fam_home_strat','total_score']\n",
        "sch_vars = ['sch_gender', 'sch_nature', 'sch_calen', 'sch_bilingual', 'sch_type', 'sch_loc_type',\\\n",
        "            'sch_day_time', 'sch_socioecon_level','total_score']"
      ],
      "execution_count": null,
      "outputs": []
    },
    {
      "cell_type": "code",
      "metadata": {
        "id": "k6gg1eDEqPjg"
      },
      "source": [
        "df=df[fam_vars]"
      ],
      "execution_count": null,
      "outputs": []
    },
    {
      "cell_type": "code",
      "metadata": {
        "id": "qdUOD2o54ErH"
      },
      "source": [
        "#train-valid-test\n",
        "train = df\n",
        "target = 'total_score'\n",
        "if \"Set\" not in train.columns:\n",
        "    train[\"Set\"] = np.random.choice([\"train\", \"valid\", \"test\"], p =[.98, .01, .01], size=(train.shape[0],))\n",
        "\n",
        "train_indices = train[train.Set==\"train\"].index\n",
        "valid_indices = train[train.Set==\"valid\"].index\n",
        "test_indices = train[train.Set==\"test\"].index"
      ],
      "execution_count": null,
      "outputs": []
    },
    {
      "cell_type": "code",
      "metadata": {
        "id": "GYhp9y4Z416I",
        "colab": {
          "base_uri": "https://localhost:8080/"
        },
        "outputId": "8dc29faf-1729-4231-97bc-c050a9b66573"
      },
      "source": [
        "categorical_columns = []\n",
        "categorical_dims =  {}\n",
        "for col in train.columns[train.dtypes == object]:\n",
        "    print(col, train[col].nunique())\n",
        "    l_enc = LabelEncoder()\n",
        "    train[col] = train[col].fillna(\"VV_likely\")\n",
        "    train[col] = l_enc.fit_transform(train[col].values)\n",
        "    categorical_columns.append(col)\n",
        "    categorical_dims[col] = len(l_enc.classes_)\n",
        "\n",
        "for col in train.columns[train.dtypes == 'float64']:\n",
        "    train.fillna(train.loc[train_indices, col].mean(), inplace=True)"
      ],
      "execution_count": null,
      "outputs": [
        {
          "output_type": "stream",
          "name": "stdout",
          "text": [
            "fam_inh_home 5\n",
            "fam_home_rooms 6\n",
            "fam_edu_father 12\n",
            "fam_edu_mother 12\n",
            "fam_work_father 13\n",
            "fam_work_mother 13\n",
            "fam_num_books 4\n",
            "fam_eat_dairy 4\n",
            "fam_eat_meat 4\n",
            "fam_eat_vegfruitcereal 4\n",
            "fam_econ_state 3\n",
            "fam_home_strat 7\n",
            "Set 3\n"
          ]
        }
      ]
    },
    {
      "cell_type": "code",
      "metadata": {
        "id": "nKFBl-A66QYQ"
      },
      "source": [
        "unused_feat = ['Set']\n",
        "\n",
        "features = [ col for col in train.columns if col not in unused_feat+[target]] \n",
        "\n",
        "categ_ind = [ i for i, f in enumerate(features) if f in categorical_columns]\n",
        "\n",
        "cat_dims = [ categorical_dims[f] for i, f in enumerate(features) if f in categorical_columns]\n"
      ],
      "execution_count": null,
      "outputs": []
    },
    {
      "cell_type": "code",
      "metadata": {
        "id": "ZDmFv1x9D7sn"
      },
      "source": [
        "X_train = train.loc[train_indices,features].values\n",
        "y_train = train.loc[train_indices,target].values.reshape(-1, 1)\n",
        "\n",
        "X_valid = train.loc[valid_indices,features].values\n",
        "y_valid = train.loc[valid_indices,target].values.reshape(-1, 1)\n",
        "\n",
        "X_test = train.loc[test_indices,features].values\n",
        "y_test = train.loc[test_indices,target].values.reshape(-1, 1)"
      ],
      "execution_count": null,
      "outputs": []
    },
    {
      "cell_type": "code",
      "metadata": {
        "id": "aBNhoF7YK2zk",
        "colab": {
          "base_uri": "https://localhost:8080/"
        },
        "outputId": "4fd7e9c9-d3f4-4f30-c2e8-eafd516356c5"
      },
      "source": [
        "from torch.optim import Adam\n",
        "from torch.optim.lr_scheduler import ReduceLROnPlateau, CosineAnnealingWarmRestarts\n",
        "tabnet_params = dict(\n",
        "   \n",
        "    n_d = 16,\n",
        "    n_a = 16,\n",
        "    n_steps = 9,\n",
        "    gamma = 1.2,\n",
        "    n_independent = 2,\n",
        "    n_shared = 2,\n",
        "    lambda_sparse = 0.00001,\n",
        "    cat_idxs= categ_ind,\n",
        "    cat_dims = cat_dims,\n",
        "    optimizer_fn = Adam,\n",
        "    optimizer_params = dict(lr = (2e-2)),\n",
        "    scheduler_params={\"step_size\":10, \"gamma\":0.9},\n",
        "    scheduler_fn=torch.optim.lr_scheduler.StepLR,\n",
        "    mask_type = \"sparsemax\",\n",
        "    seed = 42,\n",
        "    verbose = 1,\n",
        "    cat_emb_dim=1   \n",
        ")\n",
        "reg_1 = TabNetRegressor(**tabnet_params)"
      ],
      "execution_count": null,
      "outputs": [
        {
          "output_type": "stream",
          "name": "stdout",
          "text": [
            "Device used : cuda\n"
          ]
        }
      ]
    },
    {
      "cell_type": "code",
      "metadata": {
        "colab": {
          "base_uri": "https://localhost:8080/"
        },
        "id": "DHHvbv5gVk3n",
        "outputId": "432c12fe-9c33-43e8-e229-16ea9a68d45f"
      },
      "source": [
        "reg_1.fit(\n",
        "    X_train=X_train, y_train=y_train,\n",
        "    eval_set=[(X_train, y_train), (X_valid, y_valid)],\n",
        "    eval_name=['train', 'valid'],\n",
        "    eval_metric=['mse'],\n",
        "    max_epochs=200,\n",
        "    patience=10,\n",
        "    batch_size=\t8192, virtual_batch_size=128,\n",
        "    num_workers=2,\n",
        "    drop_last=False\n",
        ")"
      ],
      "execution_count": null,
      "outputs": [
        {
          "output_type": "stream",
          "name": "stdout",
          "text": [
            "epoch 0  | loss: 20395.50313| train_mse: 2329.61318| valid_mse: 2338.96762|  0:01:06s\n",
            "epoch 1  | loss: 2214.79391| train_mse: 2180.16467| valid_mse: 2195.99061|  0:02:12s\n",
            "epoch 2  | loss: 2185.08045| train_mse: 2140.59576| valid_mse: 2137.449|  0:03:18s\n",
            "epoch 3  | loss: 2107.05152| train_mse: 2041.43369| valid_mse: 2032.68876|  0:04:25s\n",
            "epoch 4  | loss: 2049.23734| train_mse: 2039.19992| valid_mse: 2038.83266|  0:05:31s\n",
            "epoch 5  | loss: 2028.80709| train_mse: 2011.27948| valid_mse: 2024.35502|  0:06:38s\n",
            "epoch 6  | loss: 2010.7172| train_mse: 1981.34385| valid_mse: 1966.74498|  0:07:47s\n",
            "epoch 7  | loss: 1976.53103| train_mse: 1947.71511| valid_mse: 1937.77891|  0:08:56s\n",
            "epoch 8  | loss: 1948.95803| train_mse: 1937.79505| valid_mse: 1936.48376|  0:10:05s\n",
            "epoch 9  | loss: 1933.0716| train_mse: 1909.07114| valid_mse: 1915.45738|  0:11:14s\n",
            "epoch 10 | loss: 1901.92431| train_mse: 1885.92688| valid_mse: 1879.16923|  0:12:23s\n",
            "epoch 11 | loss: 1887.29736| train_mse: 1879.0717| valid_mse: 1871.59325|  0:13:31s\n",
            "epoch 12 | loss: 1878.26674| train_mse: 1857.55127| valid_mse: 1856.1373|  0:14:39s\n",
            "epoch 13 | loss: 1863.07871| train_mse: 1849.64539| valid_mse: 1849.20219|  0:15:47s\n",
            "epoch 14 | loss: 1859.80571| train_mse: 1851.8533| valid_mse: 1850.63336|  0:16:55s\n",
            "epoch 15 | loss: 1851.88356| train_mse: 1839.88059| valid_mse: 1844.94645|  0:18:04s\n",
            "epoch 16 | loss: 1846.13494| train_mse: 1838.06987| valid_mse: 1845.57974|  0:19:12s\n",
            "epoch 17 | loss: 1840.37323| train_mse: 1831.84257| valid_mse: 1841.70717|  0:20:20s\n",
            "epoch 18 | loss: 1834.05387| train_mse: 1828.0655| valid_mse: 1832.21161|  0:21:28s\n",
            "epoch 19 | loss: 1833.16887| train_mse: 1821.59696| valid_mse: 1834.06371|  0:22:37s\n",
            "epoch 20 | loss: 1825.92686| train_mse: 1820.10431| valid_mse: 1830.12014|  0:23:45s\n",
            "epoch 21 | loss: 1823.92906| train_mse: 1817.41732| valid_mse: 1827.76989|  0:24:53s\n",
            "epoch 22 | loss: 1822.17406| train_mse: 1812.71127| valid_mse: 1821.62739|  0:26:01s\n",
            "epoch 23 | loss: 1822.65369| train_mse: 1818.02301| valid_mse: 1823.92477|  0:27:10s\n",
            "epoch 24 | loss: 1822.92618| train_mse: 1818.95426| valid_mse: 1830.68593|  0:28:18s\n",
            "epoch 25 | loss: 1818.42578| train_mse: 1808.28343| valid_mse: 1818.2923|  0:29:26s\n",
            "epoch 26 | loss: 1816.20548| train_mse: 1811.58925| valid_mse: 1819.01476|  0:30:35s\n",
            "epoch 27 | loss: 1812.97197| train_mse: 1802.3255| valid_mse: 1812.11973|  0:31:44s\n",
            "epoch 28 | loss: 1810.44818| train_mse: 1805.51524| valid_mse: 1816.44437|  0:32:52s\n",
            "epoch 29 | loss: 1812.98901| train_mse: 1806.73795| valid_mse: 1813.10276|  0:34:00s\n",
            "epoch 30 | loss: 1810.19886| train_mse: 1800.46623| valid_mse: 1813.07677|  0:35:09s\n",
            "epoch 31 | loss: 1807.58455| train_mse: 1801.7683| valid_mse: 1810.60357|  0:36:19s\n",
            "epoch 32 | loss: 1808.31748| train_mse: 1798.52134| valid_mse: 1811.35413|  0:37:28s\n",
            "epoch 33 | loss: 1808.36402| train_mse: 1799.73453| valid_mse: 1813.69633|  0:38:37s\n",
            "epoch 34 | loss: 1807.67976| train_mse: 1799.36192| valid_mse: 1815.08587|  0:39:46s\n",
            "epoch 35 | loss: 1805.65966| train_mse: 1798.0875| valid_mse: 1813.96151|  0:40:56s\n",
            "epoch 36 | loss: 1807.2972| train_mse: 1801.00405| valid_mse: 1815.39313|  0:42:05s\n",
            "epoch 37 | loss: 1808.19231| train_mse: 1799.7965| valid_mse: 1819.9433|  0:43:15s\n",
            "epoch 38 | loss: 1805.951| train_mse: 1800.42113| valid_mse: 1816.47323|  0:44:24s\n",
            "epoch 39 | loss: 1806.01815| train_mse: 1798.66011| valid_mse: 1811.36367|  0:45:33s\n",
            "epoch 40 | loss: 1804.39183| train_mse: 1797.24102| valid_mse: 1814.56192|  0:46:43s\n",
            "epoch 41 | loss: 1801.98427| train_mse: 1794.02614| valid_mse: 1811.96388|  0:47:53s\n",
            "\n",
            "Early stopping occurred at epoch 41 with best_epoch = 31 and best_valid_mse = 1810.60357\n",
            "Best weights from best epoch are automatically used!\n"
          ]
        }
      ]
    },
    {
      "cell_type": "code",
      "metadata": {
        "colab": {
          "base_uri": "https://localhost:8080/",
          "height": 393
        },
        "id": "suIyiYh9BTic",
        "outputId": "073396ed-cee8-4141-f694-1c7e75eb9c9a"
      },
      "source": [
        "plt.figure(figsize=[18, 6])\n",
        "plt.subplot(1, 2, 1)\n",
        "plt.plot(reg_1.history['loss'])\n",
        "plt.title('Loss')\n",
        "plt.grid()\n",
        "plt.subplot(1, 2, 2)\n",
        "plt.plot(reg_1.history['train_mse'])\n",
        "plt.plot(reg_1.history['valid_mse'])\n",
        "plt.title('MSE')\n",
        "plt.grid()\n",
        "plt.savefig(\"fam_vars_performance.png\", dpi=100)\n",
        "plt.show()\n",
        "files.download(\"fam_vars_performance.png\")"
      ],
      "execution_count": null,
      "outputs": [
        {
          "output_type": "display_data",
          "data": {
            "image/png": "[encoded data removed]",
            "text/plain": [
              "<Figure size 1296x432 with 2 Axes>"
            ]
          },
          "metadata": {
            "needs_background": "light"
          }
        },
        {
          "output_type": "display_data",
          "data": {
            "application/javascript": [
              "\n",
              "    async function download(id, filename, size) {\n",
              "      if (!google.colab.kernel.accessAllowed) {\n",
              "        return;\n",
              "      }\n",
              "      const div = document.createElement('div');\n",
              "      const label = document.createElement('label');\n",
              "      label.textContent = `Downloading \"${filename}\": `;\n",
              "      div.appendChild(label);\n",
              "      const progress = document.createElement('progress');\n",
              "      progress.max = size;\n",
              "      div.appendChild(progress);\n",
              "      document.body.appendChild(div);\n",
              "\n",
              "      const buffers = [];\n",
              "      let downloaded = 0;\n",
              "\n",
              "      const channel = await google.colab.kernel.comms.open(id);\n",
              "      // Send a message to notify the kernel that we're ready.\n",
              "      channel.send({})\n",
              "\n",
              "      for await (const message of channel.messages) {\n",
              "        // Send a message to notify the kernel that we're ready.\n",
              "        channel.send({})\n",
              "        if (message.buffers) {\n",
              "          for (const buffer of message.buffers) {\n",
              "            buffers.push(buffer);\n",
              "            downloaded += buffer.byteLength;\n",
              "            progress.value = downloaded;\n",
              "          }\n",
              "        }\n",
              "      }\n",
              "      const blob = new Blob(buffers, {type: 'application/binary'});\n",
              "      const a = document.createElement('a');\n",
              "      a.href = window.URL.createObjectURL(blob);\n",
              "      a.download = filename;\n",
              "      div.appendChild(a);\n",
              "      a.click();\n",
              "      div.remove();\n",
              "    }\n",
              "  "
            ],
            "text/plain": [
              "<IPython.core.display.Javascript object>"
            ]
          },
          "metadata": {}
        },
        {
          "output_type": "display_data",
          "data": {
            "application/javascript": [
              "download(\"download_db63758d-702a-4df5-b895-382b999419cb\", \"fam_vars_performance.png\", 47793)"
            ],
            "text/plain": [
              "<IPython.core.display.Javascript object>"
            ]
          },
          "metadata": {}
        }
      ]
    },
    {
      "cell_type": "code",
      "metadata": {
        "id": "t1VWVSV5smg_",
        "colab": {
          "base_uri": "https://localhost:8080/"
        },
        "outputId": "e25ef3fa-6e08-48c5-d4b5-4f3aa6863796"
      },
      "source": [
        "preds = reg_1.predict(X_test)\n",
        "MSE = np.square(np.subtract(preds,y_test)).mean() \n",
        "\n",
        "print(f\"BEST VALID SCORE FOR {'ICFES_Saber_11'} : {reg_1.best_cost}\")\n",
        "print(f\"FINAL TEST SCORE FOR {'ICFES_Saber_11'} : {MSE}\")"
      ],
      "execution_count": null,
      "outputs": [
        {
          "output_type": "stream",
          "name": "stdout",
          "text": [
            "BEST VALID SCORE FOR ICFES_Saber_11 : 1810.6035692074354\n",
            "FINAL TEST SCORE FOR ICFES_Saber_11 : 1831.2903888453973\n"
          ]
        }
      ]
    },
    {
      "cell_type": "code",
      "metadata": {
        "id": "oOZDpj6At36_",
        "colab": {
          "base_uri": "https://localhost:8080/",
          "height": 330
        },
        "outputId": "02640a84-978d-4b06-9a0f-9b6c19027df3"
      },
      "source": [
        "explain_matrix, masks = reg_1.explain(X_test)\n",
        "\n",
        "fig, axs = plt.subplots(1, 9, figsize=(20,8))\n",
        "for i in range(9):\n",
        "    axs[i].imshow(masks[i][:50])\n",
        "    axs[i].set_title(f\"mask {i}\")\n",
        "plt.savefig(\"importance masks_fam_vars.png\", dpi=100)\n",
        "plt.show()\n",
        "files.download(\"importance masks_fam_vars.png\")"
      ],
      "execution_count": null,
      "outputs": [
        {
          "output_type": "display_data",
          "data": {
            "image/png": "[encoded data removed]",
            "text/plain": [
              "<Figure size 1440x576 with 9 Axes>"
            ]
          },
          "metadata": {
            "needs_background": "light"
          }
        },
        {
          "output_type": "display_data",
          "data": {
            "application/javascript": [
              "\n",
              "    async function download(id, filename, size) {\n",
              "      if (!google.colab.kernel.accessAllowed) {\n",
              "        return;\n",
              "      }\n",
              "      const div = document.createElement('div');\n",
              "      const label = document.createElement('label');\n",
              "      label.textContent = `Downloading \"${filename}\": `;\n",
              "      div.appendChild(label);\n",
              "      const progress = document.createElement('progress');\n",
              "      progress.max = size;\n",
              "      div.appendChild(progress);\n",
              "      document.body.appendChild(div);\n",
              "\n",
              "      const buffers = [];\n",
              "      let downloaded = 0;\n",
              "\n",
              "      const channel = await google.colab.kernel.comms.open(id);\n",
              "      // Send a message to notify the kernel that we're ready.\n",
              "      channel.send({})\n",
              "\n",
              "      for await (const message of channel.messages) {\n",
              "        // Send a message to notify the kernel that we're ready.\n",
              "        channel.send({})\n",
              "        if (message.buffers) {\n",
              "          for (const buffer of message.buffers) {\n",
              "            buffers.push(buffer);\n",
              "            downloaded += buffer.byteLength;\n",
              "            progress.value = downloaded;\n",
              "          }\n",
              "        }\n",
              "      }\n",
              "      const blob = new Blob(buffers, {type: 'application/binary'});\n",
              "      const a = document.createElement('a');\n",
              "      a.href = window.URL.createObjectURL(blob);\n",
              "      a.download = filename;\n",
              "      div.appendChild(a);\n",
              "      a.click();\n",
              "      div.remove();\n",
              "    }\n",
              "  "
            ],
            "text/plain": [
              "<IPython.core.display.Javascript object>"
            ]
          },
          "metadata": {}
        },
        {
          "output_type": "display_data",
          "data": {
            "application/javascript": [
              "download(\"download_58614917-751a-443c-a319-01425ba13e1d\", \"importance masks_fam_vars.png\", 25012)"
            ],
            "text/plain": [
              "<IPython.core.display.Javascript object>"
            ]
          },
          "metadata": {}
        }
      ]
    },
    {
      "cell_type": "code",
      "metadata": {
        "id": "CbvRiuQV8jgj",
        "colab": {
          "base_uri": "https://localhost:8080/",
          "height": 393
        },
        "outputId": "3cee205b-20d1-47c0-d2a7-5bf4e5affb1f"
      },
      "source": [
        "from google.colab import files\n",
        "feat_importances = reg_1.feature_importances_\n",
        "indices = np.argsort(feat_importances)\n",
        "# plot\n",
        "fig, ax = plt.subplots(figsize=(15, 6))\n",
        "plt.title(\"Ranking family feature importances\")\n",
        "plt.barh(range(len(feat_importances)), feat_importances[indices],color=\"b\", align=\"center\")\n",
        "#features = ['feature_{}'.format(i) for i in range(0, 20)]\n",
        "plt.yticks(range(len(feat_importances)), [features[idx] for idx in indices])\n",
        "# all features\n",
        "plt.ylim([-1, len(feat_importances)])\n",
        "# Top 25 features\n",
        "plt.ylim([len(feat_importances)-20, len(feat_importances)])\n",
        "plt.savefig(\"Feat_importance_fam_vars.png\", dpi=100)\n",
        "plt.show()\n",
        "files.download(\"Feat_importance_fam_vars.png\")"
      ],
      "execution_count": null,
      "outputs": [
        {
          "output_type": "display_data",
          "data": {
            "image/png": "[encoded data removed]",
            "text/plain": [
              "<Figure size 1080x432 with 1 Axes>"
            ]
          },
          "metadata": {
            "needs_background": "light"
          }
        },
        {
          "output_type": "display_data",
          "data": {
            "application/javascript": [
              "\n",
              "    async function download(id, filename, size) {\n",
              "      if (!google.colab.kernel.accessAllowed) {\n",
              "        return;\n",
              "      }\n",
              "      const div = document.createElement('div');\n",
              "      const label = document.createElement('label');\n",
              "      label.textContent = `Downloading \"${filename}\": `;\n",
              "      div.appendChild(label);\n",
              "      const progress = document.createElement('progress');\n",
              "      progress.max = size;\n",
              "      div.appendChild(progress);\n",
              "      document.body.appendChild(div);\n",
              "\n",
              "      const buffers = [];\n",
              "      let downloaded = 0;\n",
              "\n",
              "      const channel = await google.colab.kernel.comms.open(id);\n",
              "      // Send a message to notify the kernel that we're ready.\n",
              "      channel.send({})\n",
              "\n",
              "      for await (const message of channel.messages) {\n",
              "        // Send a message to notify the kernel that we're ready.\n",
              "        channel.send({})\n",
              "        if (message.buffers) {\n",
              "          for (const buffer of message.buffers) {\n",
              "            buffers.push(buffer);\n",
              "            downloaded += buffer.byteLength;\n",
              "            progress.value = downloaded;\n",
              "          }\n",
              "        }\n",
              "      }\n",
              "      const blob = new Blob(buffers, {type: 'application/binary'});\n",
              "      const a = document.createElement('a');\n",
              "      a.href = window.URL.createObjectURL(blob);\n",
              "      a.download = filename;\n",
              "      div.appendChild(a);\n",
              "      a.click();\n",
              "      div.remove();\n",
              "    }\n",
              "  "
            ],
            "text/plain": [
              "<IPython.core.display.Javascript object>"
            ]
          },
          "metadata": {}
        },
        {
          "output_type": "display_data",
          "data": {
            "application/javascript": [
              "download(\"download_1990b446-6b52-4db0-aa8d-7d2dfb5a31c2\", \"Feat_importance_fam_vars.png\", 62724)"
            ],
            "text/plain": [
              "<IPython.core.display.Javascript object>"
            ]
          },
          "metadata": {}
        }
      ]
    }
  ]
}